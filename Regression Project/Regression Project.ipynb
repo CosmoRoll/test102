{
 "cells": [
  {
   "cell_type": "code",
   "execution_count": 3,
   "metadata": {},
   "outputs": [],
   "source": [
    "import pandas as pd\n",
    "import numpy as np\n",
    "import seaborn as sns\n",
    "import matplotlib.pyplot as plt\n",
    "sns.set_style('darkgrid')"
   ]
  },
  {
   "cell_type": "code",
   "execution_count": 4,
   "metadata": {},
   "outputs": [],
   "source": [
    "df = pd.read_csv('real_estate_data.csv')\n"
   ]
  },
  {
   "cell_type": "code",
   "execution_count": 5,
   "metadata": {},
   "outputs": [
    {
     "data": {
      "text/html": [
       "<div>\n",
       "<style scoped>\n",
       "    .dataframe tbody tr th:only-of-type {\n",
       "        vertical-align: middle;\n",
       "    }\n",
       "\n",
       "    .dataframe tbody tr th {\n",
       "        vertical-align: top;\n",
       "    }\n",
       "\n",
       "    .dataframe thead th {\n",
       "        text-align: right;\n",
       "    }\n",
       "</style>\n",
       "<table border=\"1\" class=\"dataframe\">\n",
       "  <thead>\n",
       "    <tr style=\"text-align: right;\">\n",
       "      <th></th>\n",
       "      <th>tx_price</th>\n",
       "      <th>beds</th>\n",
       "      <th>baths</th>\n",
       "      <th>sqft</th>\n",
       "      <th>year_built</th>\n",
       "      <th>lot_size</th>\n",
       "      <th>property_type</th>\n",
       "      <th>exterior_walls</th>\n",
       "      <th>roof</th>\n",
       "      <th>basement</th>\n",
       "      <th>...</th>\n",
       "      <th>beauty_spas</th>\n",
       "      <th>active_life</th>\n",
       "      <th>median_age</th>\n",
       "      <th>married</th>\n",
       "      <th>college_grad</th>\n",
       "      <th>property_tax</th>\n",
       "      <th>insurance</th>\n",
       "      <th>median_school</th>\n",
       "      <th>num_schools</th>\n",
       "      <th>tx_year</th>\n",
       "    </tr>\n",
       "  </thead>\n",
       "  <tbody>\n",
       "    <tr>\n",
       "      <th>0</th>\n",
       "      <td>295850</td>\n",
       "      <td>1</td>\n",
       "      <td>1</td>\n",
       "      <td>584</td>\n",
       "      <td>2013</td>\n",
       "      <td>0</td>\n",
       "      <td>Apartment / Condo / Townhouse</td>\n",
       "      <td>Wood Siding</td>\n",
       "      <td>NaN</td>\n",
       "      <td>NaN</td>\n",
       "      <td>...</td>\n",
       "      <td>47</td>\n",
       "      <td>58</td>\n",
       "      <td>33.0</td>\n",
       "      <td>65.0</td>\n",
       "      <td>84.0</td>\n",
       "      <td>234.0</td>\n",
       "      <td>81.0</td>\n",
       "      <td>9.0</td>\n",
       "      <td>3.0</td>\n",
       "      <td>2013</td>\n",
       "    </tr>\n",
       "    <tr>\n",
       "      <th>1</th>\n",
       "      <td>216500</td>\n",
       "      <td>1</td>\n",
       "      <td>1</td>\n",
       "      <td>612</td>\n",
       "      <td>1965</td>\n",
       "      <td>0</td>\n",
       "      <td>Apartment / Condo / Townhouse</td>\n",
       "      <td>Brick</td>\n",
       "      <td>Composition Shingle</td>\n",
       "      <td>1.0</td>\n",
       "      <td>...</td>\n",
       "      <td>26</td>\n",
       "      <td>14</td>\n",
       "      <td>39.0</td>\n",
       "      <td>73.0</td>\n",
       "      <td>69.0</td>\n",
       "      <td>169.0</td>\n",
       "      <td>51.0</td>\n",
       "      <td>3.0</td>\n",
       "      <td>3.0</td>\n",
       "      <td>2006</td>\n",
       "    </tr>\n",
       "    <tr>\n",
       "      <th>2</th>\n",
       "      <td>279900</td>\n",
       "      <td>1</td>\n",
       "      <td>1</td>\n",
       "      <td>615</td>\n",
       "      <td>1963</td>\n",
       "      <td>0</td>\n",
       "      <td>Apartment / Condo / Townhouse</td>\n",
       "      <td>Wood Siding</td>\n",
       "      <td>NaN</td>\n",
       "      <td>NaN</td>\n",
       "      <td>...</td>\n",
       "      <td>74</td>\n",
       "      <td>62</td>\n",
       "      <td>28.0</td>\n",
       "      <td>15.0</td>\n",
       "      <td>86.0</td>\n",
       "      <td>216.0</td>\n",
       "      <td>74.0</td>\n",
       "      <td>8.0</td>\n",
       "      <td>3.0</td>\n",
       "      <td>2012</td>\n",
       "    </tr>\n",
       "    <tr>\n",
       "      <th>3</th>\n",
       "      <td>379900</td>\n",
       "      <td>1</td>\n",
       "      <td>1</td>\n",
       "      <td>618</td>\n",
       "      <td>2000</td>\n",
       "      <td>33541</td>\n",
       "      <td>Apartment / Condo / Townhouse</td>\n",
       "      <td>Wood Siding</td>\n",
       "      <td>NaN</td>\n",
       "      <td>NaN</td>\n",
       "      <td>...</td>\n",
       "      <td>72</td>\n",
       "      <td>83</td>\n",
       "      <td>36.0</td>\n",
       "      <td>25.0</td>\n",
       "      <td>91.0</td>\n",
       "      <td>265.0</td>\n",
       "      <td>92.0</td>\n",
       "      <td>9.0</td>\n",
       "      <td>3.0</td>\n",
       "      <td>2005</td>\n",
       "    </tr>\n",
       "    <tr>\n",
       "      <th>4</th>\n",
       "      <td>340000</td>\n",
       "      <td>1</td>\n",
       "      <td>1</td>\n",
       "      <td>634</td>\n",
       "      <td>1992</td>\n",
       "      <td>0</td>\n",
       "      <td>Apartment / Condo / Townhouse</td>\n",
       "      <td>Brick</td>\n",
       "      <td>NaN</td>\n",
       "      <td>NaN</td>\n",
       "      <td>...</td>\n",
       "      <td>50</td>\n",
       "      <td>73</td>\n",
       "      <td>37.0</td>\n",
       "      <td>20.0</td>\n",
       "      <td>75.0</td>\n",
       "      <td>88.0</td>\n",
       "      <td>30.0</td>\n",
       "      <td>9.0</td>\n",
       "      <td>3.0</td>\n",
       "      <td>2002</td>\n",
       "    </tr>\n",
       "  </tbody>\n",
       "</table>\n",
       "<p>5 rows × 26 columns</p>\n",
       "</div>"
      ],
      "text/plain": [
       "   tx_price  beds  baths  sqft  year_built  lot_size  \\\n",
       "0    295850     1      1   584        2013         0   \n",
       "1    216500     1      1   612        1965         0   \n",
       "2    279900     1      1   615        1963         0   \n",
       "3    379900     1      1   618        2000     33541   \n",
       "4    340000     1      1   634        1992         0   \n",
       "\n",
       "                   property_type exterior_walls                 roof  \\\n",
       "0  Apartment / Condo / Townhouse    Wood Siding                  NaN   \n",
       "1  Apartment / Condo / Townhouse          Brick  Composition Shingle   \n",
       "2  Apartment / Condo / Townhouse    Wood Siding                  NaN   \n",
       "3  Apartment / Condo / Townhouse    Wood Siding                  NaN   \n",
       "4  Apartment / Condo / Townhouse          Brick                  NaN   \n",
       "\n",
       "   basement  ...  beauty_spas  active_life  median_age  married  college_grad  \\\n",
       "0       NaN  ...           47           58        33.0     65.0          84.0   \n",
       "1       1.0  ...           26           14        39.0     73.0          69.0   \n",
       "2       NaN  ...           74           62        28.0     15.0          86.0   \n",
       "3       NaN  ...           72           83        36.0     25.0          91.0   \n",
       "4       NaN  ...           50           73        37.0     20.0          75.0   \n",
       "\n",
       "   property_tax  insurance  median_school  num_schools  tx_year  \n",
       "0         234.0       81.0            9.0          3.0     2013  \n",
       "1         169.0       51.0            3.0          3.0     2006  \n",
       "2         216.0       74.0            8.0          3.0     2012  \n",
       "3         265.0       92.0            9.0          3.0     2005  \n",
       "4          88.0       30.0            9.0          3.0     2002  \n",
       "\n",
       "[5 rows x 26 columns]"
      ]
     },
     "execution_count": 5,
     "metadata": {},
     "output_type": "execute_result"
    }
   ],
   "source": [
    "df.head()"
   ]
  },
  {
   "cell_type": "code",
   "execution_count": 6,
   "metadata": {},
   "outputs": [],
   "source": [
    "pd.set_option('display.max_columns',100)"
   ]
  },
  {
   "cell_type": "code",
   "execution_count": 8,
   "metadata": {},
   "outputs": [
    {
     "name": "stdout",
     "output_type": "stream",
     "text": [
      "tx_price                int64\n",
      "beds                    int64\n",
      "baths                   int64\n",
      "sqft                    int64\n",
      "year_built              int64\n",
      "lot_size                int64\n",
      "property_type          object\n",
      "exterior_walls         object\n",
      "roof                   object\n",
      "basement              float64\n",
      "restaurants             int64\n",
      "groceries               int64\n",
      "nightlife               int64\n",
      "cafes                   int64\n",
      "shopping                int64\n",
      "arts_entertainment      int64\n",
      "beauty_spas             int64\n",
      "active_life             int64\n",
      "median_age            float64\n",
      "married               float64\n",
      "college_grad          float64\n",
      "property_tax          float64\n",
      "insurance             float64\n",
      "median_school         float64\n",
      "num_schools           float64\n",
      "tx_year                 int64\n",
      "dtype: object\n"
     ]
    }
   ],
   "source": [
    "print(df.dtypes)"
   ]
  },
  {
   "cell_type": "code",
   "execution_count": 9,
   "metadata": {},
   "outputs": [
    {
     "name": "stdout",
     "output_type": "stream",
     "text": [
      "property_type       0\n",
      "exterior_walls    223\n",
      "roof              354\n",
      "dtype: int64\n"
     ]
    }
   ],
   "source": [
    "print(df.select_dtypes(include = ['object']).isnull().sum())"
   ]
  },
  {
   "cell_type": "code",
   "execution_count": 10,
   "metadata": {},
   "outputs": [
    {
     "name": "stdout",
     "output_type": "stream",
     "text": [
      "tx_price                0\n",
      "beds                    0\n",
      "baths                   0\n",
      "sqft                    0\n",
      "year_built              0\n",
      "lot_size                0\n",
      "basement              226\n",
      "restaurants             0\n",
      "groceries               0\n",
      "nightlife               0\n",
      "cafes                   0\n",
      "shopping                0\n",
      "arts_entertainment      0\n",
      "beauty_spas             0\n",
      "active_life             0\n",
      "median_age              0\n",
      "married                 0\n",
      "college_grad            0\n",
      "property_tax            0\n",
      "insurance               0\n",
      "median_school           0\n",
      "num_schools             0\n",
      "tx_year                 0\n",
      "dtype: int64\n"
     ]
    }
   ],
   "source": [
    "print(df.select_dtypes(exclude = ['object']).isnull().sum())"
   ]
  },
  {
   "cell_type": "code",
   "execution_count": 11,
   "metadata": {},
   "outputs": [
    {
     "name": "stdout",
     "output_type": "stream",
     "text": [
      "[nan  1.]\n"
     ]
    }
   ],
   "source": [
    "print(df.basement.unique())"
   ]
  },
  {
   "cell_type": "code",
   "execution_count": 13,
   "metadata": {},
   "outputs": [],
   "source": [
    "df.loc[df['basement']!=1,['basement']]=[0]\n"
   ]
  },
  {
   "cell_type": "code",
   "execution_count": 14,
   "metadata": {},
   "outputs": [
    {
     "name": "stdout",
     "output_type": "stream",
     "text": [
      "tx_price              0\n",
      "beds                  0\n",
      "baths                 0\n",
      "sqft                  0\n",
      "year_built            0\n",
      "lot_size              0\n",
      "basement              0\n",
      "restaurants           0\n",
      "groceries             0\n",
      "nightlife             0\n",
      "cafes                 0\n",
      "shopping              0\n",
      "arts_entertainment    0\n",
      "beauty_spas           0\n",
      "active_life           0\n",
      "median_age            0\n",
      "married               0\n",
      "college_grad          0\n",
      "property_tax          0\n",
      "insurance             0\n",
      "median_school         0\n",
      "num_schools           0\n",
      "tx_year               0\n",
      "dtype: int64\n"
     ]
    }
   ],
   "source": [
    "print(df.select_dtypes(exclude = ['object']).isnull().sum())"
   ]
  },
  {
   "cell_type": "code",
   "execution_count": 15,
   "metadata": {},
   "outputs": [
    {
     "data": {
      "text/html": [
       "<div>\n",
       "<style scoped>\n",
       "    .dataframe tbody tr th:only-of-type {\n",
       "        vertical-align: middle;\n",
       "    }\n",
       "\n",
       "    .dataframe tbody tr th {\n",
       "        vertical-align: top;\n",
       "    }\n",
       "\n",
       "    .dataframe thead th {\n",
       "        text-align: right;\n",
       "    }\n",
       "</style>\n",
       "<table border=\"1\" class=\"dataframe\">\n",
       "  <thead>\n",
       "    <tr style=\"text-align: right;\">\n",
       "      <th></th>\n",
       "      <th>tx_price</th>\n",
       "      <th>beds</th>\n",
       "      <th>baths</th>\n",
       "      <th>sqft</th>\n",
       "      <th>year_built</th>\n",
       "      <th>lot_size</th>\n",
       "      <th>property_type</th>\n",
       "      <th>exterior_walls</th>\n",
       "      <th>roof</th>\n",
       "      <th>basement</th>\n",
       "      <th>restaurants</th>\n",
       "      <th>groceries</th>\n",
       "      <th>nightlife</th>\n",
       "      <th>cafes</th>\n",
       "      <th>shopping</th>\n",
       "      <th>arts_entertainment</th>\n",
       "      <th>beauty_spas</th>\n",
       "      <th>active_life</th>\n",
       "      <th>median_age</th>\n",
       "      <th>married</th>\n",
       "      <th>college_grad</th>\n",
       "      <th>property_tax</th>\n",
       "      <th>insurance</th>\n",
       "      <th>median_school</th>\n",
       "      <th>num_schools</th>\n",
       "      <th>tx_year</th>\n",
       "    </tr>\n",
       "  </thead>\n",
       "  <tbody>\n",
       "    <tr>\n",
       "      <th>0</th>\n",
       "      <td>295850</td>\n",
       "      <td>1</td>\n",
       "      <td>1</td>\n",
       "      <td>584</td>\n",
       "      <td>2013</td>\n",
       "      <td>0</td>\n",
       "      <td>Apartment / Condo / Townhouse</td>\n",
       "      <td>Wood Siding</td>\n",
       "      <td>NaN</td>\n",
       "      <td>0.0</td>\n",
       "      <td>107</td>\n",
       "      <td>9</td>\n",
       "      <td>30</td>\n",
       "      <td>19</td>\n",
       "      <td>89</td>\n",
       "      <td>6</td>\n",
       "      <td>47</td>\n",
       "      <td>58</td>\n",
       "      <td>33.0</td>\n",
       "      <td>65.0</td>\n",
       "      <td>84.0</td>\n",
       "      <td>234.0</td>\n",
       "      <td>81.0</td>\n",
       "      <td>9.0</td>\n",
       "      <td>3.0</td>\n",
       "      <td>2013</td>\n",
       "    </tr>\n",
       "    <tr>\n",
       "      <th>1</th>\n",
       "      <td>216500</td>\n",
       "      <td>1</td>\n",
       "      <td>1</td>\n",
       "      <td>612</td>\n",
       "      <td>1965</td>\n",
       "      <td>0</td>\n",
       "      <td>Apartment / Condo / Townhouse</td>\n",
       "      <td>Brick</td>\n",
       "      <td>Composition Shingle</td>\n",
       "      <td>1.0</td>\n",
       "      <td>105</td>\n",
       "      <td>15</td>\n",
       "      <td>6</td>\n",
       "      <td>13</td>\n",
       "      <td>87</td>\n",
       "      <td>2</td>\n",
       "      <td>26</td>\n",
       "      <td>14</td>\n",
       "      <td>39.0</td>\n",
       "      <td>73.0</td>\n",
       "      <td>69.0</td>\n",
       "      <td>169.0</td>\n",
       "      <td>51.0</td>\n",
       "      <td>3.0</td>\n",
       "      <td>3.0</td>\n",
       "      <td>2006</td>\n",
       "    </tr>\n",
       "    <tr>\n",
       "      <th>2</th>\n",
       "      <td>279900</td>\n",
       "      <td>1</td>\n",
       "      <td>1</td>\n",
       "      <td>615</td>\n",
       "      <td>1963</td>\n",
       "      <td>0</td>\n",
       "      <td>Apartment / Condo / Townhouse</td>\n",
       "      <td>Wood Siding</td>\n",
       "      <td>NaN</td>\n",
       "      <td>0.0</td>\n",
       "      <td>183</td>\n",
       "      <td>13</td>\n",
       "      <td>31</td>\n",
       "      <td>30</td>\n",
       "      <td>101</td>\n",
       "      <td>10</td>\n",
       "      <td>74</td>\n",
       "      <td>62</td>\n",
       "      <td>28.0</td>\n",
       "      <td>15.0</td>\n",
       "      <td>86.0</td>\n",
       "      <td>216.0</td>\n",
       "      <td>74.0</td>\n",
       "      <td>8.0</td>\n",
       "      <td>3.0</td>\n",
       "      <td>2012</td>\n",
       "    </tr>\n",
       "    <tr>\n",
       "      <th>3</th>\n",
       "      <td>379900</td>\n",
       "      <td>1</td>\n",
       "      <td>1</td>\n",
       "      <td>618</td>\n",
       "      <td>2000</td>\n",
       "      <td>33541</td>\n",
       "      <td>Apartment / Condo / Townhouse</td>\n",
       "      <td>Wood Siding</td>\n",
       "      <td>NaN</td>\n",
       "      <td>0.0</td>\n",
       "      <td>198</td>\n",
       "      <td>9</td>\n",
       "      <td>38</td>\n",
       "      <td>25</td>\n",
       "      <td>127</td>\n",
       "      <td>11</td>\n",
       "      <td>72</td>\n",
       "      <td>83</td>\n",
       "      <td>36.0</td>\n",
       "      <td>25.0</td>\n",
       "      <td>91.0</td>\n",
       "      <td>265.0</td>\n",
       "      <td>92.0</td>\n",
       "      <td>9.0</td>\n",
       "      <td>3.0</td>\n",
       "      <td>2005</td>\n",
       "    </tr>\n",
       "    <tr>\n",
       "      <th>4</th>\n",
       "      <td>340000</td>\n",
       "      <td>1</td>\n",
       "      <td>1</td>\n",
       "      <td>634</td>\n",
       "      <td>1992</td>\n",
       "      <td>0</td>\n",
       "      <td>Apartment / Condo / Townhouse</td>\n",
       "      <td>Brick</td>\n",
       "      <td>NaN</td>\n",
       "      <td>0.0</td>\n",
       "      <td>149</td>\n",
       "      <td>7</td>\n",
       "      <td>22</td>\n",
       "      <td>20</td>\n",
       "      <td>83</td>\n",
       "      <td>10</td>\n",
       "      <td>50</td>\n",
       "      <td>73</td>\n",
       "      <td>37.0</td>\n",
       "      <td>20.0</td>\n",
       "      <td>75.0</td>\n",
       "      <td>88.0</td>\n",
       "      <td>30.0</td>\n",
       "      <td>9.0</td>\n",
       "      <td>3.0</td>\n",
       "      <td>2002</td>\n",
       "    </tr>\n",
       "  </tbody>\n",
       "</table>\n",
       "</div>"
      ],
      "text/plain": [
       "   tx_price  beds  baths  sqft  year_built  lot_size  \\\n",
       "0    295850     1      1   584        2013         0   \n",
       "1    216500     1      1   612        1965         0   \n",
       "2    279900     1      1   615        1963         0   \n",
       "3    379900     1      1   618        2000     33541   \n",
       "4    340000     1      1   634        1992         0   \n",
       "\n",
       "                   property_type exterior_walls                 roof  \\\n",
       "0  Apartment / Condo / Townhouse    Wood Siding                  NaN   \n",
       "1  Apartment / Condo / Townhouse          Brick  Composition Shingle   \n",
       "2  Apartment / Condo / Townhouse    Wood Siding                  NaN   \n",
       "3  Apartment / Condo / Townhouse    Wood Siding                  NaN   \n",
       "4  Apartment / Condo / Townhouse          Brick                  NaN   \n",
       "\n",
       "   basement  restaurants  groceries  nightlife  cafes  shopping  \\\n",
       "0       0.0          107          9         30     19        89   \n",
       "1       1.0          105         15          6     13        87   \n",
       "2       0.0          183         13         31     30       101   \n",
       "3       0.0          198          9         38     25       127   \n",
       "4       0.0          149          7         22     20        83   \n",
       "\n",
       "   arts_entertainment  beauty_spas  active_life  median_age  married  \\\n",
       "0                   6           47           58        33.0     65.0   \n",
       "1                   2           26           14        39.0     73.0   \n",
       "2                  10           74           62        28.0     15.0   \n",
       "3                  11           72           83        36.0     25.0   \n",
       "4                  10           50           73        37.0     20.0   \n",
       "\n",
       "   college_grad  property_tax  insurance  median_school  num_schools  tx_year  \n",
       "0          84.0         234.0       81.0            9.0          3.0     2013  \n",
       "1          69.0         169.0       51.0            3.0          3.0     2006  \n",
       "2          86.0         216.0       74.0            8.0          3.0     2012  \n",
       "3          91.0         265.0       92.0            9.0          3.0     2005  \n",
       "4          75.0          88.0       30.0            9.0          3.0     2002  "
      ]
     },
     "execution_count": 15,
     "metadata": {},
     "output_type": "execute_result"
    }
   ],
   "source": [
    "df.head()"
   ]
  },
  {
   "cell_type": "code",
   "execution_count": 16,
   "metadata": {},
   "outputs": [
    {
     "data": {
      "image/png": "[encoded data removed]",
      "text/plain": [
       "<Figure size 432x288 with 1 Axes>"
      ]
     },
     "metadata": {
      "needs_background": "light"
     },
     "output_type": "display_data"
    }
   ],
   "source": [
    "\n",
    "sns.countplot(x=df.basement)\n",
    "plt.show()\n"
   ]
  },
  {
   "cell_type": "code",
   "execution_count": 17,
   "metadata": {},
   "outputs": [
    {
     "name": "stdout",
     "output_type": "stream",
     "text": [
      "            tx_price         beds        baths         sqft   year_built  \\\n",
      "count    1883.000000  1883.000000  1883.000000  1883.000000  1883.000000   \n",
      "mean   422839.807754     3.420605     2.579926  2329.398832  1982.963887   \n",
      "std    151462.593276     1.068554     0.945576  1336.991858    20.295945   \n",
      "min    200000.000000     1.000000     1.000000   500.000000  1880.000000   \n",
      "25%    300000.000000     3.000000     2.000000  1345.000000  1970.000000   \n",
      "50%    392000.000000     3.000000     3.000000  1907.000000  1986.000000   \n",
      "75%    525000.000000     4.000000     3.000000  3005.000000  2000.000000   \n",
      "max    800000.000000     5.000000     6.000000  8450.000000  2015.000000   \n",
      "\n",
      "           lot_size     basement  restaurants    groceries    nightlife  \\\n",
      "count  1.883000e+03  1883.000000  1883.000000  1883.000000  1883.000000   \n",
      "mean   1.339262e+04     0.879979    40.210303     4.505045     5.074881   \n",
      "std    4.494930e+04     0.325073    46.867012     4.491029     8.464668   \n",
      "min    0.000000e+00     0.000000     0.000000     0.000000     0.000000   \n",
      "25%    1.542000e+03     1.000000     7.000000     1.000000     0.000000   \n",
      "50%    6.098000e+03     1.000000    23.000000     3.000000     2.000000   \n",
      "75%    1.176100e+04     1.000000    58.000000     7.000000     6.000000   \n",
      "max    1.220551e+06     1.000000   266.000000    24.000000    54.000000   \n",
      "\n",
      "             cafes     shopping  arts_entertainment  beauty_spas  active_life  \\\n",
      "count  1883.000000  1883.000000         1883.000000  1883.000000  1883.000000   \n",
      "mean      5.325013    40.802443            3.394052    23.416888    15.835369   \n",
      "std       7.539309    53.539296            4.699787    25.776916    17.667717   \n",
      "min       0.000000     0.000000            0.000000     0.000000     0.000000   \n",
      "25%       0.000000     6.000000            0.000000     4.000000     4.000000   \n",
      "50%       3.000000    22.000000            2.000000    15.000000    10.000000   \n",
      "75%       6.000000    51.000000            5.000000    35.000000    21.000000   \n",
      "max      47.000000   340.000000           35.000000   177.000000    94.000000   \n",
      "\n",
      "        median_age      married  college_grad  property_tax    insurance  \\\n",
      "count  1883.000000  1883.000000   1883.000000   1883.000000  1883.000000   \n",
      "mean     38.601168    69.091875     65.085502    466.777483   140.454063   \n",
      "std       6.634110    19.659767     16.953165    231.656645    72.929765   \n",
      "min      22.000000    11.000000      5.000000     88.000000    30.000000   \n",
      "25%      33.000000    58.000000     54.000000    320.000000    94.000000   \n",
      "50%      38.000000    73.000000     66.000000    426.000000   125.000000   \n",
      "75%      43.000000    84.000000     78.000000    569.000000   169.000000   \n",
      "max      69.000000   100.000000    100.000000   4508.000000  1374.000000   \n",
      "\n",
      "       median_school  num_schools      tx_year  \n",
      "count    1883.000000  1883.000000  1883.000000  \n",
      "mean        6.502921     2.793415  2007.111524  \n",
      "std         1.996109     0.505358     5.196898  \n",
      "min         1.000000     1.000000  1993.000000  \n",
      "25%         5.000000     3.000000  2004.000000  \n",
      "50%         7.000000     3.000000  2007.000000  \n",
      "75%         8.000000     3.000000  2011.000000  \n",
      "max        10.000000     4.000000  2016.000000  \n"
     ]
    }
   ],
   "source": [
    "print(df.describe())"
   ]
  },
  {
   "cell_type": "code",
   "execution_count": 18,
   "metadata": {},
   "outputs": [
    {
     "data": {
      "image/png": "[encoded data removed]",
      "text/plain": [
       "<Figure size 432x288 with 1 Axes>"
      ]
     },
     "metadata": {
      "needs_background": "light"
     },
     "output_type": "display_data"
    }
   ],
   "source": [
    "df.tx_price.hist()\n",
    "plt.show()"
   ]
  },
  {
   "cell_type": "code",
   "execution_count": 19,
   "metadata": {},
   "outputs": [
    {
     "data": {
      "image/png": "[encoded data removed]",
      "text/plain": [
       "<Figure size 432x288 with 1 Axes>"
      ]
     },
     "metadata": {
      "needs_background": "light"
     },
     "output_type": "display_data"
    }
   ],
   "source": [
    "df.basement.hist()\n",
    "plt.show()"
   ]
  },
  {
   "cell_type": "code",
   "execution_count": 20,
   "metadata": {},
   "outputs": [
    {
     "data": {
      "image/png": "[encoded data removed]",
      "text/plain": [
       "<Figure size 432x288 with 1 Axes>"
      ]
     },
     "metadata": {
      "needs_background": "light"
     },
     "output_type": "display_data"
    }
   ],
   "source": [
    "df.lot_size.hist()\n",
    "plt.show()"
   ]
  },
  {
   "cell_type": "code",
   "execution_count": 21,
   "metadata": {},
   "outputs": [
    {
     "data": {
      "text/plain": [
       "count    1.883000e+03\n",
       "mean     1.339262e+04\n",
       "std      4.494930e+04\n",
       "min      0.000000e+00\n",
       "25%      1.542000e+03\n",
       "50%      6.098000e+03\n",
       "75%      1.176100e+04\n",
       "max      1.220551e+06\n",
       "Name: lot_size, dtype: float64"
      ]
     },
     "execution_count": 21,
     "metadata": {},
     "output_type": "execute_result"
    }
   ],
   "source": [
    "df.lot_size.describe()"
   ]
  },
  {
   "cell_type": "code",
   "execution_count": 22,
   "metadata": {},
   "outputs": [
    {
     "data": {
      "text/html": [
       "<div>\n",
       "<style scoped>\n",
       "    .dataframe tbody tr th:only-of-type {\n",
       "        vertical-align: middle;\n",
       "    }\n",
       "\n",
       "    .dataframe tbody tr th {\n",
       "        vertical-align: top;\n",
       "    }\n",
       "\n",
       "    .dataframe thead th {\n",
       "        text-align: right;\n",
       "    }\n",
       "</style>\n",
       "<table border=\"1\" class=\"dataframe\">\n",
       "  <thead>\n",
       "    <tr style=\"text-align: right;\">\n",
       "      <th></th>\n",
       "      <th>lot_size</th>\n",
       "      <th>basement</th>\n",
       "    </tr>\n",
       "  </thead>\n",
       "  <tbody>\n",
       "    <tr>\n",
       "      <th>102</th>\n",
       "      <td>1220551</td>\n",
       "      <td>0.0</td>\n",
       "    </tr>\n",
       "    <tr>\n",
       "      <th>1111</th>\n",
       "      <td>436471</td>\n",
       "      <td>1.0</td>\n",
       "    </tr>\n",
       "    <tr>\n",
       "      <th>1832</th>\n",
       "      <td>436035</td>\n",
       "      <td>1.0</td>\n",
       "    </tr>\n",
       "    <tr>\n",
       "      <th>1876</th>\n",
       "      <td>436035</td>\n",
       "      <td>1.0</td>\n",
       "    </tr>\n",
       "    <tr>\n",
       "      <th>1839</th>\n",
       "      <td>435600</td>\n",
       "      <td>1.0</td>\n",
       "    </tr>\n",
       "  </tbody>\n",
       "</table>\n",
       "</div>"
      ],
      "text/plain": [
       "      lot_size  basement\n",
       "102    1220551       0.0\n",
       "1111    436471       1.0\n",
       "1832    436035       1.0\n",
       "1876    436035       1.0\n",
       "1839    435600       1.0"
      ]
     },
     "execution_count": 22,
     "metadata": {},
     "output_type": "execute_result"
    }
   ],
   "source": [
    "(df.sort_values(by = ['lot_size'],ascending = False))[['lot_size','basement']].head()"
   ]
  },
  {
   "cell_type": "code",
   "execution_count": 23,
   "metadata": {},
   "outputs": [
    {
     "data": {
      "image/png": "[encoded data removed]",
      "text/plain": [
       "<Figure size 432x288 with 1 Axes>"
      ]
     },
     "metadata": {
      "needs_background": "light"
     },
     "output_type": "display_data"
    }
   ],
   "source": [
    "\n",
    "df.tx_price.hist()\n",
    "plt.show()"
   ]
  },
  {
   "cell_type": "code",
   "execution_count": 24,
   "metadata": {},
   "outputs": [
    {
     "data": {
      "image/png": "[encoded data removed]",
      "text/plain": [
       "<Figure size 432x288 with 1 Axes>"
      ]
     },
     "metadata": {
      "needs_background": "light"
     },
     "output_type": "display_data"
    }
   ],
   "source": [
    "df.lot_size.hist()\n",
    "plt.show()"
   ]
  },
  {
   "cell_type": "code",
   "execution_count": 26,
   "metadata": {},
   "outputs": [
    {
     "data": {
      "image/png": "[encoded data removed]",
      "text/plain": [
       "<Figure size 432x288 with 1 Axes>"
      ]
     },
     "metadata": {
      "needs_background": "light"
     },
     "output_type": "display_data"
    }
   ],
   "source": [
    "sns.boxplot(x=df.property_type, y=df.tx_price)\n",
    "plt.show()"
   ]
  },
  {
   "cell_type": "code",
   "execution_count": 27,
   "metadata": {},
   "outputs": [
    {
     "data": {
      "text/html": [
       "<div>\n",
       "<style scoped>\n",
       "    .dataframe tbody tr th:only-of-type {\n",
       "        vertical-align: middle;\n",
       "    }\n",
       "\n",
       "    .dataframe tbody tr th {\n",
       "        vertical-align: top;\n",
       "    }\n",
       "\n",
       "    .dataframe thead tr th {\n",
       "        text-align: left;\n",
       "    }\n",
       "\n",
       "    .dataframe thead tr:last-of-type th {\n",
       "        text-align: right;\n",
       "    }\n",
       "</style>\n",
       "<table border=\"1\" class=\"dataframe\">\n",
       "  <thead>\n",
       "    <tr>\n",
       "      <th></th>\n",
       "      <th colspan=\"8\" halign=\"left\">tx_price</th>\n",
       "      <th colspan=\"8\" halign=\"left\">beds</th>\n",
       "      <th colspan=\"8\" halign=\"left\">baths</th>\n",
       "      <th colspan=\"8\" halign=\"left\">sqft</th>\n",
       "      <th colspan=\"8\" halign=\"left\">year_built</th>\n",
       "      <th colspan=\"8\" halign=\"left\">lot_size</th>\n",
       "      <th colspan=\"2\" halign=\"left\">basement</th>\n",
       "      <th>...</th>\n",
       "      <th colspan=\"2\" halign=\"left\">married</th>\n",
       "      <th colspan=\"8\" halign=\"left\">college_grad</th>\n",
       "      <th colspan=\"8\" halign=\"left\">property_tax</th>\n",
       "      <th colspan=\"8\" halign=\"left\">insurance</th>\n",
       "      <th colspan=\"8\" halign=\"left\">median_school</th>\n",
       "      <th colspan=\"8\" halign=\"left\">num_schools</th>\n",
       "      <th colspan=\"8\" halign=\"left\">tx_year</th>\n",
       "    </tr>\n",
       "    <tr>\n",
       "      <th></th>\n",
       "      <th>count</th>\n",
       "      <th>mean</th>\n",
       "      <th>std</th>\n",
       "      <th>min</th>\n",
       "      <th>25%</th>\n",
       "      <th>50%</th>\n",
       "      <th>75%</th>\n",
       "      <th>max</th>\n",
       "      <th>count</th>\n",
       "      <th>mean</th>\n",
       "      <th>std</th>\n",
       "      <th>min</th>\n",
       "      <th>25%</th>\n",
       "      <th>50%</th>\n",
       "      <th>75%</th>\n",
       "      <th>max</th>\n",
       "      <th>count</th>\n",
       "      <th>mean</th>\n",
       "      <th>std</th>\n",
       "      <th>min</th>\n",
       "      <th>25%</th>\n",
       "      <th>50%</th>\n",
       "      <th>75%</th>\n",
       "      <th>max</th>\n",
       "      <th>count</th>\n",
       "      <th>mean</th>\n",
       "      <th>std</th>\n",
       "      <th>min</th>\n",
       "      <th>25%</th>\n",
       "      <th>50%</th>\n",
       "      <th>75%</th>\n",
       "      <th>max</th>\n",
       "      <th>count</th>\n",
       "      <th>mean</th>\n",
       "      <th>std</th>\n",
       "      <th>min</th>\n",
       "      <th>25%</th>\n",
       "      <th>50%</th>\n",
       "      <th>75%</th>\n",
       "      <th>max</th>\n",
       "      <th>count</th>\n",
       "      <th>mean</th>\n",
       "      <th>std</th>\n",
       "      <th>min</th>\n",
       "      <th>25%</th>\n",
       "      <th>50%</th>\n",
       "      <th>75%</th>\n",
       "      <th>max</th>\n",
       "      <th>count</th>\n",
       "      <th>mean</th>\n",
       "      <th>...</th>\n",
       "      <th>75%</th>\n",
       "      <th>max</th>\n",
       "      <th>count</th>\n",
       "      <th>mean</th>\n",
       "      <th>std</th>\n",
       "      <th>min</th>\n",
       "      <th>25%</th>\n",
       "      <th>50%</th>\n",
       "      <th>75%</th>\n",
       "      <th>max</th>\n",
       "      <th>count</th>\n",
       "      <th>mean</th>\n",
       "      <th>std</th>\n",
       "      <th>min</th>\n",
       "      <th>25%</th>\n",
       "      <th>50%</th>\n",
       "      <th>75%</th>\n",
       "      <th>max</th>\n",
       "      <th>count</th>\n",
       "      <th>mean</th>\n",
       "      <th>std</th>\n",
       "      <th>min</th>\n",
       "      <th>25%</th>\n",
       "      <th>50%</th>\n",
       "      <th>75%</th>\n",
       "      <th>max</th>\n",
       "      <th>count</th>\n",
       "      <th>mean</th>\n",
       "      <th>std</th>\n",
       "      <th>min</th>\n",
       "      <th>25%</th>\n",
       "      <th>50%</th>\n",
       "      <th>75%</th>\n",
       "      <th>max</th>\n",
       "      <th>count</th>\n",
       "      <th>mean</th>\n",
       "      <th>std</th>\n",
       "      <th>min</th>\n",
       "      <th>25%</th>\n",
       "      <th>50%</th>\n",
       "      <th>75%</th>\n",
       "      <th>max</th>\n",
       "      <th>count</th>\n",
       "      <th>mean</th>\n",
       "      <th>std</th>\n",
       "      <th>min</th>\n",
       "      <th>25%</th>\n",
       "      <th>50%</th>\n",
       "      <th>75%</th>\n",
       "      <th>max</th>\n",
       "    </tr>\n",
       "    <tr>\n",
       "      <th>property_type</th>\n",
       "      <th></th>\n",
       "      <th></th>\n",
       "      <th></th>\n",
       "      <th></th>\n",
       "      <th></th>\n",
       "      <th></th>\n",
       "      <th></th>\n",
       "      <th></th>\n",
       "      <th></th>\n",
       "      <th></th>\n",
       "      <th></th>\n",
       "      <th></th>\n",
       "      <th></th>\n",
       "      <th></th>\n",
       "      <th></th>\n",
       "      <th></th>\n",
       "      <th></th>\n",
       "      <th></th>\n",
       "      <th></th>\n",
       "      <th></th>\n",
       "      <th></th>\n",
       "      <th></th>\n",
       "      <th></th>\n",
       "      <th></th>\n",
       "      <th></th>\n",
       "      <th></th>\n",
       "      <th></th>\n",
       "      <th></th>\n",
       "      <th></th>\n",
       "      <th></th>\n",
       "      <th></th>\n",
       "      <th></th>\n",
       "      <th></th>\n",
       "      <th></th>\n",
       "      <th></th>\n",
       "      <th></th>\n",
       "      <th></th>\n",
       "      <th></th>\n",
       "      <th></th>\n",
       "      <th></th>\n",
       "      <th></th>\n",
       "      <th></th>\n",
       "      <th></th>\n",
       "      <th></th>\n",
       "      <th></th>\n",
       "      <th></th>\n",
       "      <th></th>\n",
       "      <th></th>\n",
       "      <th></th>\n",
       "      <th></th>\n",
       "      <th></th>\n",
       "      <th></th>\n",
       "      <th></th>\n",
       "      <th></th>\n",
       "      <th></th>\n",
       "      <th></th>\n",
       "      <th></th>\n",
       "      <th></th>\n",
       "      <th></th>\n",
       "      <th></th>\n",
       "      <th></th>\n",
       "      <th></th>\n",
       "      <th></th>\n",
       "      <th></th>\n",
       "      <th></th>\n",
       "      <th></th>\n",
       "      <th></th>\n",
       "      <th></th>\n",
       "      <th></th>\n",
       "      <th></th>\n",
       "      <th></th>\n",
       "      <th></th>\n",
       "      <th></th>\n",
       "      <th></th>\n",
       "      <th></th>\n",
       "      <th></th>\n",
       "      <th></th>\n",
       "      <th></th>\n",
       "      <th></th>\n",
       "      <th></th>\n",
       "      <th></th>\n",
       "      <th></th>\n",
       "      <th></th>\n",
       "      <th></th>\n",
       "      <th></th>\n",
       "      <th></th>\n",
       "      <th></th>\n",
       "      <th></th>\n",
       "      <th></th>\n",
       "      <th></th>\n",
       "      <th></th>\n",
       "      <th></th>\n",
       "      <th></th>\n",
       "      <th></th>\n",
       "      <th></th>\n",
       "      <th></th>\n",
       "      <th></th>\n",
       "      <th></th>\n",
       "      <th></th>\n",
       "      <th></th>\n",
       "      <th></th>\n",
       "    </tr>\n",
       "  </thead>\n",
       "  <tbody>\n",
       "    <tr>\n",
       "      <th>Apartment / Condo / Townhouse</th>\n",
       "      <td>803.0</td>\n",
       "      <td>366614.034869</td>\n",
       "      <td>121784.490486</td>\n",
       "      <td>200000.0</td>\n",
       "      <td>280000.0</td>\n",
       "      <td>340000.0</td>\n",
       "      <td>419950.0</td>\n",
       "      <td>790830.0</td>\n",
       "      <td>803.0</td>\n",
       "      <td>2.601494</td>\n",
       "      <td>0.810220</td>\n",
       "      <td>1.0</td>\n",
       "      <td>2.0</td>\n",
       "      <td>3.0</td>\n",
       "      <td>3.0</td>\n",
       "      <td>5.0</td>\n",
       "      <td>803.0</td>\n",
       "      <td>2.200498</td>\n",
       "      <td>0.815009</td>\n",
       "      <td>1.0</td>\n",
       "      <td>2.0</td>\n",
       "      <td>2.0</td>\n",
       "      <td>3.0</td>\n",
       "      <td>5.0</td>\n",
       "      <td>803.0</td>\n",
       "      <td>1513.727273</td>\n",
       "      <td>556.286650</td>\n",
       "      <td>500.0</td>\n",
       "      <td>1107.5</td>\n",
       "      <td>1428.0</td>\n",
       "      <td>1808.0</td>\n",
       "      <td>4300.0</td>\n",
       "      <td>803.0</td>\n",
       "      <td>1988.936488</td>\n",
       "      <td>15.513640</td>\n",
       "      <td>1940.0</td>\n",
       "      <td>1981.0</td>\n",
       "      <td>1991.0</td>\n",
       "      <td>2001.0</td>\n",
       "      <td>2014.0</td>\n",
       "      <td>803.0</td>\n",
       "      <td>3944.239103</td>\n",
       "      <td>44284.168767</td>\n",
       "      <td>0.0</td>\n",
       "      <td>0.0</td>\n",
       "      <td>1424.0</td>\n",
       "      <td>2077.0</td>\n",
       "      <td>1220551.0</td>\n",
       "      <td>803.0</td>\n",
       "      <td>0.783313</td>\n",
       "      <td>...</td>\n",
       "      <td>73.0</td>\n",
       "      <td>100.0</td>\n",
       "      <td>803.0</td>\n",
       "      <td>66.372354</td>\n",
       "      <td>17.095874</td>\n",
       "      <td>21.0</td>\n",
       "      <td>54.5</td>\n",
       "      <td>69.0</td>\n",
       "      <td>80.0</td>\n",
       "      <td>99.0</td>\n",
       "      <td>803.0</td>\n",
       "      <td>346.261519</td>\n",
       "      <td>142.292282</td>\n",
       "      <td>88.0</td>\n",
       "      <td>260.5</td>\n",
       "      <td>321.0</td>\n",
       "      <td>397.0</td>\n",
       "      <td>1941.0</td>\n",
       "      <td>803.0</td>\n",
       "      <td>105.652553</td>\n",
       "      <td>47.118015</td>\n",
       "      <td>30.0</td>\n",
       "      <td>78.0</td>\n",
       "      <td>96.0</td>\n",
       "      <td>121.00</td>\n",
       "      <td>673.0</td>\n",
       "      <td>803.0</td>\n",
       "      <td>6.382316</td>\n",
       "      <td>1.941998</td>\n",
       "      <td>1.0</td>\n",
       "      <td>5.0</td>\n",
       "      <td>7.0</td>\n",
       "      <td>8.0</td>\n",
       "      <td>10.0</td>\n",
       "      <td>803.0</td>\n",
       "      <td>2.831880</td>\n",
       "      <td>0.455370</td>\n",
       "      <td>1.0</td>\n",
       "      <td>3.0</td>\n",
       "      <td>3.0</td>\n",
       "      <td>3.0</td>\n",
       "      <td>4.0</td>\n",
       "      <td>803.0</td>\n",
       "      <td>2007.941469</td>\n",
       "      <td>4.099487</td>\n",
       "      <td>1994.0</td>\n",
       "      <td>2005.0</td>\n",
       "      <td>2008.0</td>\n",
       "      <td>2011.0</td>\n",
       "      <td>2016.0</td>\n",
       "    </tr>\n",
       "    <tr>\n",
       "      <th>Single-Family</th>\n",
       "      <td>1080.0</td>\n",
       "      <td>464644.711111</td>\n",
       "      <td>157758.739013</td>\n",
       "      <td>200000.0</td>\n",
       "      <td>336875.0</td>\n",
       "      <td>450000.0</td>\n",
       "      <td>579120.0</td>\n",
       "      <td>800000.0</td>\n",
       "      <td>1080.0</td>\n",
       "      <td>4.029630</td>\n",
       "      <td>0.795639</td>\n",
       "      <td>1.0</td>\n",
       "      <td>4.0</td>\n",
       "      <td>4.0</td>\n",
       "      <td>5.0</td>\n",
       "      <td>5.0</td>\n",
       "      <td>1080.0</td>\n",
       "      <td>2.862037</td>\n",
       "      <td>0.937551</td>\n",
       "      <td>1.0</td>\n",
       "      <td>2.0</td>\n",
       "      <td>3.0</td>\n",
       "      <td>3.0</td>\n",
       "      <td>6.0</td>\n",
       "      <td>1080.0</td>\n",
       "      <td>2935.865741</td>\n",
       "      <td>1422.871169</td>\n",
       "      <td>642.0</td>\n",
       "      <td>1800.0</td>\n",
       "      <td>2663.0</td>\n",
       "      <td>3855.5</td>\n",
       "      <td>8450.0</td>\n",
       "      <td>1080.0</td>\n",
       "      <td>1978.523148</td>\n",
       "      <td>22.210582</td>\n",
       "      <td>1880.0</td>\n",
       "      <td>1962.0</td>\n",
       "      <td>1980.0</td>\n",
       "      <td>1999.0</td>\n",
       "      <td>2015.0</td>\n",
       "      <td>1080.0</td>\n",
       "      <td>20417.666667</td>\n",
       "      <td>44165.529302</td>\n",
       "      <td>0.0</td>\n",
       "      <td>8196.0</td>\n",
       "      <td>10758.5</td>\n",
       "      <td>16117.0</td>\n",
       "      <td>436471.0</td>\n",
       "      <td>1080.0</td>\n",
       "      <td>0.951852</td>\n",
       "      <td>...</td>\n",
       "      <td>88.0</td>\n",
       "      <td>100.0</td>\n",
       "      <td>1080.0</td>\n",
       "      <td>64.128704</td>\n",
       "      <td>16.790347</td>\n",
       "      <td>5.0</td>\n",
       "      <td>52.0</td>\n",
       "      <td>65.0</td>\n",
       "      <td>77.0</td>\n",
       "      <td>100.0</td>\n",
       "      <td>1080.0</td>\n",
       "      <td>556.383333</td>\n",
       "      <td>244.351559</td>\n",
       "      <td>122.0</td>\n",
       "      <td>409.0</td>\n",
       "      <td>516.0</td>\n",
       "      <td>643.0</td>\n",
       "      <td>4508.0</td>\n",
       "      <td>1080.0</td>\n",
       "      <td>166.329630</td>\n",
       "      <td>77.816022</td>\n",
       "      <td>37.0</td>\n",
       "      <td>119.0</td>\n",
       "      <td>152.5</td>\n",
       "      <td>192.25</td>\n",
       "      <td>1374.0</td>\n",
       "      <td>1080.0</td>\n",
       "      <td>6.592593</td>\n",
       "      <td>2.031663</td>\n",
       "      <td>1.0</td>\n",
       "      <td>5.0</td>\n",
       "      <td>7.0</td>\n",
       "      <td>8.0</td>\n",
       "      <td>10.0</td>\n",
       "      <td>1080.0</td>\n",
       "      <td>2.764815</td>\n",
       "      <td>0.537959</td>\n",
       "      <td>1.0</td>\n",
       "      <td>3.0</td>\n",
       "      <td>3.0</td>\n",
       "      <td>3.0</td>\n",
       "      <td>4.0</td>\n",
       "      <td>1080.0</td>\n",
       "      <td>2006.494444</td>\n",
       "      <td>5.807059</td>\n",
       "      <td>1993.0</td>\n",
       "      <td>2003.0</td>\n",
       "      <td>2007.0</td>\n",
       "      <td>2011.0</td>\n",
       "      <td>2016.0</td>\n",
       "    </tr>\n",
       "  </tbody>\n",
       "</table>\n",
       "<p>2 rows × 184 columns</p>\n",
       "</div>"
      ],
      "text/plain": [
       "                              tx_price                                \\\n",
       "                                 count           mean            std   \n",
       "property_type                                                          \n",
       "Apartment / Condo / Townhouse    803.0  366614.034869  121784.490486   \n",
       "Single-Family                   1080.0  464644.711111  157758.739013   \n",
       "\n",
       "                                                                       \\\n",
       "                                    min       25%       50%       75%   \n",
       "property_type                                                           \n",
       "Apartment / Condo / Townhouse  200000.0  280000.0  340000.0  419950.0   \n",
       "Single-Family                  200000.0  336875.0  450000.0  579120.0   \n",
       "\n",
       "                                           beds                                \\\n",
       "                                    max   count      mean       std  min  25%   \n",
       "property_type                                                                   \n",
       "Apartment / Condo / Townhouse  790830.0   803.0  2.601494  0.810220  1.0  2.0   \n",
       "Single-Family                  800000.0  1080.0  4.029630  0.795639  1.0  4.0   \n",
       "\n",
       "                                               baths                           \\\n",
       "                               50%  75%  max   count      mean       std  min   \n",
       "property_type                                                                   \n",
       "Apartment / Condo / Townhouse  3.0  3.0  5.0   803.0  2.200498  0.815009  1.0   \n",
       "Single-Family                  4.0  5.0  5.0  1080.0  2.862037  0.937551  1.0   \n",
       "\n",
       "                                                     sqft               \\\n",
       "                               25%  50%  75%  max   count         mean   \n",
       "property_type                                                            \n",
       "Apartment / Condo / Townhouse  2.0  2.0  3.0  5.0   803.0  1513.727273   \n",
       "Single-Family                  2.0  3.0  3.0  6.0  1080.0  2935.865741   \n",
       "\n",
       "                                                                           \\\n",
       "                                       std    min     25%     50%     75%   \n",
       "property_type                                                               \n",
       "Apartment / Condo / Townhouse   556.286650  500.0  1107.5  1428.0  1808.0   \n",
       "Single-Family                  1422.871169  642.0  1800.0  2663.0  3855.5   \n",
       "\n",
       "                                      year_built                          \\\n",
       "                                  max      count         mean        std   \n",
       "property_type                                                              \n",
       "Apartment / Condo / Townhouse  4300.0      803.0  1988.936488  15.513640   \n",
       "Single-Family                  8450.0     1080.0  1978.523148  22.210582   \n",
       "\n",
       "                                                                       \\\n",
       "                                  min     25%     50%     75%     max   \n",
       "property_type                                                           \n",
       "Apartment / Condo / Townhouse  1940.0  1981.0  1991.0  2001.0  2014.0   \n",
       "Single-Family                  1880.0  1962.0  1980.0  1999.0  2015.0   \n",
       "\n",
       "                              lot_size                                   \\\n",
       "                                 count          mean           std  min   \n",
       "property_type                                                             \n",
       "Apartment / Condo / Townhouse    803.0   3944.239103  44284.168767  0.0   \n",
       "Single-Family                   1080.0  20417.666667  44165.529302  0.0   \n",
       "\n",
       "                                                                   basement  \\\n",
       "                                  25%      50%      75%        max    count   \n",
       "property_type                                                                 \n",
       "Apartment / Condo / Townhouse     0.0   1424.0   2077.0  1220551.0    803.0   \n",
       "Single-Family                  8196.0  10758.5  16117.0   436471.0   1080.0   \n",
       "\n",
       "                                         ... married        college_grad  \\\n",
       "                                   mean  ...     75%    max        count   \n",
       "property_type                            ...                               \n",
       "Apartment / Condo / Townhouse  0.783313  ...    73.0  100.0        803.0   \n",
       "Single-Family                  0.951852  ...    88.0  100.0       1080.0   \n",
       "\n",
       "                                                                             \\\n",
       "                                    mean        std   min   25%   50%   75%   \n",
       "property_type                                                                 \n",
       "Apartment / Condo / Townhouse  66.372354  17.095874  21.0  54.5  69.0  80.0   \n",
       "Single-Family                  64.128704  16.790347   5.0  52.0  65.0  77.0   \n",
       "\n",
       "                                     property_tax                          \\\n",
       "                                 max        count        mean         std   \n",
       "property_type                                                               \n",
       "Apartment / Condo / Townhouse   99.0        803.0  346.261519  142.292282   \n",
       "Single-Family                  100.0       1080.0  556.383333  244.351559   \n",
       "\n",
       "                                                                  insurance  \\\n",
       "                                 min    25%    50%    75%     max     count   \n",
       "property_type                                                                 \n",
       "Apartment / Condo / Townhouse   88.0  260.5  321.0  397.0  1941.0     803.0   \n",
       "Single-Family                  122.0  409.0  516.0  643.0  4508.0    1080.0   \n",
       "\n",
       "                                                                          \\\n",
       "                                     mean        std   min    25%    50%   \n",
       "property_type                                                              \n",
       "Apartment / Condo / Townhouse  105.652553  47.118015  30.0   78.0   96.0   \n",
       "Single-Family                  166.329630  77.816022  37.0  119.0  152.5   \n",
       "\n",
       "                                              median_school            \\\n",
       "                                  75%     max         count      mean   \n",
       "property_type                                                           \n",
       "Apartment / Condo / Townhouse  121.00   673.0         803.0  6.382316   \n",
       "Single-Family                  192.25  1374.0        1080.0  6.592593   \n",
       "\n",
       "                                                                  num_schools  \\\n",
       "                                    std  min  25%  50%  75%   max       count   \n",
       "property_type                                                                   \n",
       "Apartment / Condo / Townhouse  1.941998  1.0  5.0  7.0  8.0  10.0       803.0   \n",
       "Single-Family                  2.031663  1.0  5.0  7.0  8.0  10.0      1080.0   \n",
       "\n",
       "                                                                            \\\n",
       "                                   mean       std  min  25%  50%  75%  max   \n",
       "property_type                                                                \n",
       "Apartment / Condo / Townhouse  2.831880  0.455370  1.0  3.0  3.0  3.0  4.0   \n",
       "Single-Family                  2.764815  0.537959  1.0  3.0  3.0  3.0  4.0   \n",
       "\n",
       "                              tx_year                                         \\\n",
       "                                count         mean       std     min     25%   \n",
       "property_type                                                                  \n",
       "Apartment / Condo / Townhouse   803.0  2007.941469  4.099487  1994.0  2005.0   \n",
       "Single-Family                  1080.0  2006.494444  5.807059  1993.0  2003.0   \n",
       "\n",
       "                                                       \n",
       "                                  50%     75%     max  \n",
       "property_type                                          \n",
       "Apartment / Condo / Townhouse  2008.0  2011.0  2016.0  \n",
       "Single-Family                  2007.0  2011.0  2016.0  \n",
       "\n",
       "[2 rows x 184 columns]"
      ]
     },
     "execution_count": 27,
     "metadata": {},
     "output_type": "execute_result"
    }
   ],
   "source": [
    "df.groupby('property_type').describe()"
   ]
  },
  {
   "cell_type": "code",
   "execution_count": 28,
   "metadata": {},
   "outputs": [
    {
     "data": {
      "image/png": "[encoded data removed]",
      "text/plain": [
       "<Figure size 432x288 with 1 Axes>"
      ]
     },
     "metadata": {
      "needs_background": "light"
     },
     "output_type": "display_data"
    },
    {
     "data": {
      "image/png": "[encoded data removed]",
      "text/plain": [
       "<Figure size 432x288 with 1 Axes>"
      ]
     },
     "metadata": {
      "needs_background": "light"
     },
     "output_type": "display_data"
    }
   ],
   "source": [
    "sns.countplot(x =df.beds)\n",
    "plt.show()\n",
    "df.tx_price.hist()\n",
    "plt.show()\n"
   ]
  },
  {
   "cell_type": "code",
   "execution_count": 29,
   "metadata": {},
   "outputs": [],
   "source": [
    "df_correlations=df.corr()\n"
   ]
  },
  {
   "cell_type": "code",
   "execution_count": 30,
   "metadata": {},
   "outputs": [
    {
     "data": {
      "text/html": [
       "<div>\n",
       "<style scoped>\n",
       "    .dataframe tbody tr th:only-of-type {\n",
       "        vertical-align: middle;\n",
       "    }\n",
       "\n",
       "    .dataframe tbody tr th {\n",
       "        vertical-align: top;\n",
       "    }\n",
       "\n",
       "    .dataframe thead th {\n",
       "        text-align: right;\n",
       "    }\n",
       "</style>\n",
       "<table border=\"1\" class=\"dataframe\">\n",
       "  <thead>\n",
       "    <tr style=\"text-align: right;\">\n",
       "      <th></th>\n",
       "      <th>tx_price</th>\n",
       "      <th>beds</th>\n",
       "      <th>baths</th>\n",
       "      <th>sqft</th>\n",
       "      <th>year_built</th>\n",
       "      <th>lot_size</th>\n",
       "      <th>basement</th>\n",
       "      <th>restaurants</th>\n",
       "      <th>groceries</th>\n",
       "      <th>nightlife</th>\n",
       "      <th>cafes</th>\n",
       "      <th>shopping</th>\n",
       "      <th>arts_entertainment</th>\n",
       "      <th>beauty_spas</th>\n",
       "      <th>active_life</th>\n",
       "      <th>median_age</th>\n",
       "      <th>married</th>\n",
       "      <th>college_grad</th>\n",
       "      <th>property_tax</th>\n",
       "      <th>insurance</th>\n",
       "      <th>median_school</th>\n",
       "      <th>num_schools</th>\n",
       "      <th>tx_year</th>\n",
       "    </tr>\n",
       "  </thead>\n",
       "  <tbody>\n",
       "    <tr>\n",
       "      <th>tx_price</th>\n",
       "      <td>1.000000</td>\n",
       "      <td>0.384046</td>\n",
       "      <td>0.389375</td>\n",
       "      <td>0.469573</td>\n",
       "      <td>0.033138</td>\n",
       "      <td>0.130558</td>\n",
       "      <td>0.109479</td>\n",
       "      <td>-0.038027</td>\n",
       "      <td>-0.094314</td>\n",
       "      <td>0.009361</td>\n",
       "      <td>-0.001398</td>\n",
       "      <td>-0.038246</td>\n",
       "      <td>-0.021076</td>\n",
       "      <td>-0.054349</td>\n",
       "      <td>-0.001165</td>\n",
       "      <td>0.126335</td>\n",
       "      <td>0.200494</td>\n",
       "      <td>0.268577</td>\n",
       "      <td>0.535148</td>\n",
       "      <td>0.532947</td>\n",
       "      <td>0.175762</td>\n",
       "      <td>-0.014380</td>\n",
       "      <td>0.108782</td>\n",
       "    </tr>\n",
       "    <tr>\n",
       "      <th>beds</th>\n",
       "      <td>0.384046</td>\n",
       "      <td>1.000000</td>\n",
       "      <td>0.644572</td>\n",
       "      <td>0.691039</td>\n",
       "      <td>-0.011844</td>\n",
       "      <td>0.164399</td>\n",
       "      <td>0.414633</td>\n",
       "      <td>-0.495834</td>\n",
       "      <td>-0.421412</td>\n",
       "      <td>-0.440844</td>\n",
       "      <td>-0.464289</td>\n",
       "      <td>-0.388670</td>\n",
       "      <td>-0.442168</td>\n",
       "      <td>-0.419832</td>\n",
       "      <td>-0.486957</td>\n",
       "      <td>0.133711</td>\n",
       "      <td>0.643240</td>\n",
       "      <td>-0.082354</td>\n",
       "      <td>0.547643</td>\n",
       "      <td>0.485776</td>\n",
       "      <td>0.137309</td>\n",
       "      <td>-0.124359</td>\n",
       "      <td>-0.174081</td>\n",
       "    </tr>\n",
       "    <tr>\n",
       "      <th>baths</th>\n",
       "      <td>0.389375</td>\n",
       "      <td>0.644572</td>\n",
       "      <td>1.000000</td>\n",
       "      <td>0.682060</td>\n",
       "      <td>0.206141</td>\n",
       "      <td>0.132976</td>\n",
       "      <td>0.344108</td>\n",
       "      <td>-0.350210</td>\n",
       "      <td>-0.340024</td>\n",
       "      <td>-0.306686</td>\n",
       "      <td>-0.316836</td>\n",
       "      <td>-0.259603</td>\n",
       "      <td>-0.305885</td>\n",
       "      <td>-0.282008</td>\n",
       "      <td>-0.329736</td>\n",
       "      <td>0.095844</td>\n",
       "      <td>0.442225</td>\n",
       "      <td>0.016097</td>\n",
       "      <td>0.525776</td>\n",
       "      <td>0.475430</td>\n",
       "      <td>0.163365</td>\n",
       "      <td>-0.088299</td>\n",
       "      <td>-0.132110</td>\n",
       "    </tr>\n",
       "    <tr>\n",
       "      <th>sqft</th>\n",
       "      <td>0.469573</td>\n",
       "      <td>0.691039</td>\n",
       "      <td>0.682060</td>\n",
       "      <td>1.000000</td>\n",
       "      <td>0.254589</td>\n",
       "      <td>0.246016</td>\n",
       "      <td>0.270308</td>\n",
       "      <td>-0.353759</td>\n",
       "      <td>-0.371167</td>\n",
       "      <td>-0.281540</td>\n",
       "      <td>-0.300969</td>\n",
       "      <td>-0.275586</td>\n",
       "      <td>-0.293402</td>\n",
       "      <td>-0.310465</td>\n",
       "      <td>-0.332663</td>\n",
       "      <td>0.109811</td>\n",
       "      <td>0.480167</td>\n",
       "      <td>0.065343</td>\n",
       "      <td>0.660264</td>\n",
       "      <td>0.594049</td>\n",
       "      <td>0.220669</td>\n",
       "      <td>-0.102032</td>\n",
       "      <td>-0.236190</td>\n",
       "    </tr>\n",
       "    <tr>\n",
       "      <th>year_built</th>\n",
       "      <td>0.033138</td>\n",
       "      <td>-0.011844</td>\n",
       "      <td>0.206141</td>\n",
       "      <td>0.254589</td>\n",
       "      <td>1.000000</td>\n",
       "      <td>0.000068</td>\n",
       "      <td>0.008846</td>\n",
       "      <td>-0.106948</td>\n",
       "      <td>-0.222443</td>\n",
       "      <td>-0.080006</td>\n",
       "      <td>-0.102209</td>\n",
       "      <td>-0.121684</td>\n",
       "      <td>-0.195141</td>\n",
       "      <td>-0.163670</td>\n",
       "      <td>-0.134919</td>\n",
       "      <td>-0.237152</td>\n",
       "      <td>0.038208</td>\n",
       "      <td>-0.014204</td>\n",
       "      <td>-0.046504</td>\n",
       "      <td>-0.109521</td>\n",
       "      <td>0.155835</td>\n",
       "      <td>-0.188106</td>\n",
       "      <td>-0.043301</td>\n",
       "    </tr>\n",
       "    <tr>\n",
       "      <th>lot_size</th>\n",
       "      <td>0.130558</td>\n",
       "      <td>0.164399</td>\n",
       "      <td>0.132976</td>\n",
       "      <td>0.246016</td>\n",
       "      <td>0.000068</td>\n",
       "      <td>1.000000</td>\n",
       "      <td>0.011123</td>\n",
       "      <td>-0.113887</td>\n",
       "      <td>-0.118574</td>\n",
       "      <td>-0.072224</td>\n",
       "      <td>-0.098182</td>\n",
       "      <td>-0.116560</td>\n",
       "      <td>-0.067189</td>\n",
       "      <td>-0.121075</td>\n",
       "      <td>-0.092668</td>\n",
       "      <td>0.099140</td>\n",
       "      <td>0.122028</td>\n",
       "      <td>-0.030725</td>\n",
       "      <td>0.165800</td>\n",
       "      <td>0.146579</td>\n",
       "      <td>0.096551</td>\n",
       "      <td>-0.031535</td>\n",
       "      <td>-0.048207</td>\n",
       "    </tr>\n",
       "    <tr>\n",
       "      <th>basement</th>\n",
       "      <td>0.109479</td>\n",
       "      <td>0.414633</td>\n",
       "      <td>0.344108</td>\n",
       "      <td>0.270308</td>\n",
       "      <td>0.008846</td>\n",
       "      <td>0.011123</td>\n",
       "      <td>1.000000</td>\n",
       "      <td>-0.456759</td>\n",
       "      <td>-0.270735</td>\n",
       "      <td>-0.516373</td>\n",
       "      <td>-0.419202</td>\n",
       "      <td>-0.271279</td>\n",
       "      <td>-0.470545</td>\n",
       "      <td>-0.337146</td>\n",
       "      <td>-0.533192</td>\n",
       "      <td>0.111580</td>\n",
       "      <td>0.447285</td>\n",
       "      <td>-0.138711</td>\n",
       "      <td>0.184327</td>\n",
       "      <td>0.138771</td>\n",
       "      <td>0.005044</td>\n",
       "      <td>-0.115432</td>\n",
       "      <td>-0.070075</td>\n",
       "    </tr>\n",
       "    <tr>\n",
       "      <th>restaurants</th>\n",
       "      <td>-0.038027</td>\n",
       "      <td>-0.495834</td>\n",
       "      <td>-0.350210</td>\n",
       "      <td>-0.353759</td>\n",
       "      <td>-0.106948</td>\n",
       "      <td>-0.113887</td>\n",
       "      <td>-0.456759</td>\n",
       "      <td>1.000000</td>\n",
       "      <td>0.701462</td>\n",
       "      <td>0.926675</td>\n",
       "      <td>0.937616</td>\n",
       "      <td>0.818815</td>\n",
       "      <td>0.726907</td>\n",
       "      <td>0.867829</td>\n",
       "      <td>0.881799</td>\n",
       "      <td>-0.063816</td>\n",
       "      <td>-0.615584</td>\n",
       "      <td>0.214260</td>\n",
       "      <td>-0.100821</td>\n",
       "      <td>-0.019925</td>\n",
       "      <td>-0.068425</td>\n",
       "      <td>0.251171</td>\n",
       "      <td>0.044739</td>\n",
       "    </tr>\n",
       "    <tr>\n",
       "      <th>groceries</th>\n",
       "      <td>-0.094314</td>\n",
       "      <td>-0.421412</td>\n",
       "      <td>-0.340024</td>\n",
       "      <td>-0.371167</td>\n",
       "      <td>-0.222443</td>\n",
       "      <td>-0.118574</td>\n",
       "      <td>-0.270735</td>\n",
       "      <td>0.701462</td>\n",
       "      <td>1.000000</td>\n",
       "      <td>0.565003</td>\n",
       "      <td>0.602857</td>\n",
       "      <td>0.526356</td>\n",
       "      <td>0.502837</td>\n",
       "      <td>0.626850</td>\n",
       "      <td>0.574532</td>\n",
       "      <td>-0.022377</td>\n",
       "      <td>-0.508793</td>\n",
       "      <td>-0.006025</td>\n",
       "      <td>-0.159506</td>\n",
       "      <td>-0.093974</td>\n",
       "      <td>-0.354553</td>\n",
       "      <td>0.272856</td>\n",
       "      <td>0.115674</td>\n",
       "    </tr>\n",
       "    <tr>\n",
       "      <th>nightlife</th>\n",
       "      <td>0.009361</td>\n",
       "      <td>-0.440844</td>\n",
       "      <td>-0.306686</td>\n",
       "      <td>-0.281540</td>\n",
       "      <td>-0.080006</td>\n",
       "      <td>-0.072224</td>\n",
       "      <td>-0.516373</td>\n",
       "      <td>0.926675</td>\n",
       "      <td>0.565003</td>\n",
       "      <td>1.000000</td>\n",
       "      <td>0.923901</td>\n",
       "      <td>0.743321</td>\n",
       "      <td>0.703038</td>\n",
       "      <td>0.777461</td>\n",
       "      <td>0.858836</td>\n",
       "      <td>-0.028611</td>\n",
       "      <td>-0.568811</td>\n",
       "      <td>0.253717</td>\n",
       "      <td>-0.054386</td>\n",
       "      <td>0.024551</td>\n",
       "      <td>-0.036948</td>\n",
       "      <td>0.196399</td>\n",
       "      <td>0.027495</td>\n",
       "    </tr>\n",
       "    <tr>\n",
       "      <th>cafes</th>\n",
       "      <td>-0.001398</td>\n",
       "      <td>-0.464289</td>\n",
       "      <td>-0.316836</td>\n",
       "      <td>-0.300969</td>\n",
       "      <td>-0.102209</td>\n",
       "      <td>-0.098182</td>\n",
       "      <td>-0.419202</td>\n",
       "      <td>0.937616</td>\n",
       "      <td>0.602857</td>\n",
       "      <td>0.923901</td>\n",
       "      <td>1.000000</td>\n",
       "      <td>0.837058</td>\n",
       "      <td>0.694575</td>\n",
       "      <td>0.822541</td>\n",
       "      <td>0.826648</td>\n",
       "      <td>0.026400</td>\n",
       "      <td>-0.581850</td>\n",
       "      <td>0.266652</td>\n",
       "      <td>-0.044410</td>\n",
       "      <td>0.036502</td>\n",
       "      <td>-0.027868</td>\n",
       "      <td>0.224312</td>\n",
       "      <td>0.013558</td>\n",
       "    </tr>\n",
       "    <tr>\n",
       "      <th>shopping</th>\n",
       "      <td>-0.038246</td>\n",
       "      <td>-0.388670</td>\n",
       "      <td>-0.259603</td>\n",
       "      <td>-0.275586</td>\n",
       "      <td>-0.121684</td>\n",
       "      <td>-0.116560</td>\n",
       "      <td>-0.271279</td>\n",
       "      <td>0.818815</td>\n",
       "      <td>0.526356</td>\n",
       "      <td>0.743321</td>\n",
       "      <td>0.837058</td>\n",
       "      <td>1.000000</td>\n",
       "      <td>0.653803</td>\n",
       "      <td>0.860987</td>\n",
       "      <td>0.678515</td>\n",
       "      <td>0.032339</td>\n",
       "      <td>-0.454072</td>\n",
       "      <td>0.177383</td>\n",
       "      <td>-0.040556</td>\n",
       "      <td>0.018846</td>\n",
       "      <td>-0.048058</td>\n",
       "      <td>0.228988</td>\n",
       "      <td>-0.000324</td>\n",
       "    </tr>\n",
       "    <tr>\n",
       "      <th>arts_entertainment</th>\n",
       "      <td>-0.021076</td>\n",
       "      <td>-0.442168</td>\n",
       "      <td>-0.305885</td>\n",
       "      <td>-0.293402</td>\n",
       "      <td>-0.195141</td>\n",
       "      <td>-0.067189</td>\n",
       "      <td>-0.470545</td>\n",
       "      <td>0.726907</td>\n",
       "      <td>0.502837</td>\n",
       "      <td>0.703038</td>\n",
       "      <td>0.694575</td>\n",
       "      <td>0.653803</td>\n",
       "      <td>1.000000</td>\n",
       "      <td>0.757860</td>\n",
       "      <td>0.800994</td>\n",
       "      <td>-0.014640</td>\n",
       "      <td>-0.554533</td>\n",
       "      <td>0.239129</td>\n",
       "      <td>-0.066346</td>\n",
       "      <td>0.015380</td>\n",
       "      <td>-0.138266</td>\n",
       "      <td>0.214163</td>\n",
       "      <td>0.034356</td>\n",
       "    </tr>\n",
       "    <tr>\n",
       "      <th>beauty_spas</th>\n",
       "      <td>-0.054349</td>\n",
       "      <td>-0.419832</td>\n",
       "      <td>-0.282008</td>\n",
       "      <td>-0.310465</td>\n",
       "      <td>-0.163670</td>\n",
       "      <td>-0.121075</td>\n",
       "      <td>-0.337146</td>\n",
       "      <td>0.867829</td>\n",
       "      <td>0.626850</td>\n",
       "      <td>0.777461</td>\n",
       "      <td>0.822541</td>\n",
       "      <td>0.860987</td>\n",
       "      <td>0.757860</td>\n",
       "      <td>1.000000</td>\n",
       "      <td>0.785920</td>\n",
       "      <td>-0.002961</td>\n",
       "      <td>-0.510331</td>\n",
       "      <td>0.177066</td>\n",
       "      <td>-0.057293</td>\n",
       "      <td>0.010980</td>\n",
       "      <td>-0.098727</td>\n",
       "      <td>0.262651</td>\n",
       "      <td>0.008066</td>\n",
       "    </tr>\n",
       "    <tr>\n",
       "      <th>active_life</th>\n",
       "      <td>-0.001165</td>\n",
       "      <td>-0.486957</td>\n",
       "      <td>-0.329736</td>\n",
       "      <td>-0.332663</td>\n",
       "      <td>-0.134919</td>\n",
       "      <td>-0.092668</td>\n",
       "      <td>-0.533192</td>\n",
       "      <td>0.881799</td>\n",
       "      <td>0.574532</td>\n",
       "      <td>0.858836</td>\n",
       "      <td>0.826648</td>\n",
       "      <td>0.678515</td>\n",
       "      <td>0.800994</td>\n",
       "      <td>0.785920</td>\n",
       "      <td>1.000000</td>\n",
       "      <td>-0.081159</td>\n",
       "      <td>-0.632052</td>\n",
       "      <td>0.323985</td>\n",
       "      <td>-0.057646</td>\n",
       "      <td>0.030911</td>\n",
       "      <td>0.007675</td>\n",
       "      <td>0.235246</td>\n",
       "      <td>0.028759</td>\n",
       "    </tr>\n",
       "    <tr>\n",
       "      <th>median_age</th>\n",
       "      <td>0.126335</td>\n",
       "      <td>0.133711</td>\n",
       "      <td>0.095844</td>\n",
       "      <td>0.109811</td>\n",
       "      <td>-0.237152</td>\n",
       "      <td>0.099140</td>\n",
       "      <td>0.111580</td>\n",
       "      <td>-0.063816</td>\n",
       "      <td>-0.022377</td>\n",
       "      <td>-0.028611</td>\n",
       "      <td>0.026400</td>\n",
       "      <td>0.032339</td>\n",
       "      <td>-0.014640</td>\n",
       "      <td>-0.002961</td>\n",
       "      <td>-0.081159</td>\n",
       "      <td>1.000000</td>\n",
       "      <td>0.045555</td>\n",
       "      <td>0.169749</td>\n",
       "      <td>0.215435</td>\n",
       "      <td>0.232503</td>\n",
       "      <td>-0.002861</td>\n",
       "      <td>0.071455</td>\n",
       "      <td>-0.118490</td>\n",
       "    </tr>\n",
       "    <tr>\n",
       "      <th>married</th>\n",
       "      <td>0.200494</td>\n",
       "      <td>0.643240</td>\n",
       "      <td>0.442225</td>\n",
       "      <td>0.480167</td>\n",
       "      <td>0.038208</td>\n",
       "      <td>0.122028</td>\n",
       "      <td>0.447285</td>\n",
       "      <td>-0.615584</td>\n",
       "      <td>-0.508793</td>\n",
       "      <td>-0.568811</td>\n",
       "      <td>-0.581850</td>\n",
       "      <td>-0.454072</td>\n",
       "      <td>-0.554533</td>\n",
       "      <td>-0.510331</td>\n",
       "      <td>-0.632052</td>\n",
       "      <td>0.045555</td>\n",
       "      <td>1.000000</td>\n",
       "      <td>-0.143461</td>\n",
       "      <td>0.305330</td>\n",
       "      <td>0.233701</td>\n",
       "      <td>0.169439</td>\n",
       "      <td>-0.212870</td>\n",
       "      <td>-0.134787</td>\n",
       "    </tr>\n",
       "    <tr>\n",
       "      <th>college_grad</th>\n",
       "      <td>0.268577</td>\n",
       "      <td>-0.082354</td>\n",
       "      <td>0.016097</td>\n",
       "      <td>0.065343</td>\n",
       "      <td>-0.014204</td>\n",
       "      <td>-0.030725</td>\n",
       "      <td>-0.138711</td>\n",
       "      <td>0.214260</td>\n",
       "      <td>-0.006025</td>\n",
       "      <td>0.253717</td>\n",
       "      <td>0.266652</td>\n",
       "      <td>0.177383</td>\n",
       "      <td>0.239129</td>\n",
       "      <td>0.177066</td>\n",
       "      <td>0.323985</td>\n",
       "      <td>0.169749</td>\n",
       "      <td>-0.143461</td>\n",
       "      <td>1.000000</td>\n",
       "      <td>0.287933</td>\n",
       "      <td>0.326057</td>\n",
       "      <td>0.400306</td>\n",
       "      <td>0.049756</td>\n",
       "      <td>-0.189932</td>\n",
       "    </tr>\n",
       "    <tr>\n",
       "      <th>property_tax</th>\n",
       "      <td>0.535148</td>\n",
       "      <td>0.547643</td>\n",
       "      <td>0.525776</td>\n",
       "      <td>0.660264</td>\n",
       "      <td>-0.046504</td>\n",
       "      <td>0.165800</td>\n",
       "      <td>0.184327</td>\n",
       "      <td>-0.100821</td>\n",
       "      <td>-0.159506</td>\n",
       "      <td>-0.054386</td>\n",
       "      <td>-0.044410</td>\n",
       "      <td>-0.040556</td>\n",
       "      <td>-0.066346</td>\n",
       "      <td>-0.057293</td>\n",
       "      <td>-0.057646</td>\n",
       "      <td>0.215435</td>\n",
       "      <td>0.305330</td>\n",
       "      <td>0.287933</td>\n",
       "      <td>1.000000</td>\n",
       "      <td>0.984724</td>\n",
       "      <td>0.237455</td>\n",
       "      <td>0.037342</td>\n",
       "      <td>-0.257703</td>\n",
       "    </tr>\n",
       "    <tr>\n",
       "      <th>insurance</th>\n",
       "      <td>0.532947</td>\n",
       "      <td>0.485776</td>\n",
       "      <td>0.475430</td>\n",
       "      <td>0.594049</td>\n",
       "      <td>-0.109521</td>\n",
       "      <td>0.146579</td>\n",
       "      <td>0.138771</td>\n",
       "      <td>-0.019925</td>\n",
       "      <td>-0.093974</td>\n",
       "      <td>0.024551</td>\n",
       "      <td>0.036502</td>\n",
       "      <td>0.018846</td>\n",
       "      <td>0.015380</td>\n",
       "      <td>0.010980</td>\n",
       "      <td>0.030911</td>\n",
       "      <td>0.232503</td>\n",
       "      <td>0.233701</td>\n",
       "      <td>0.326057</td>\n",
       "      <td>0.984724</td>\n",
       "      <td>1.000000</td>\n",
       "      <td>0.234889</td>\n",
       "      <td>0.056985</td>\n",
       "      <td>-0.254706</td>\n",
       "    </tr>\n",
       "    <tr>\n",
       "      <th>median_school</th>\n",
       "      <td>0.175762</td>\n",
       "      <td>0.137309</td>\n",
       "      <td>0.163365</td>\n",
       "      <td>0.220669</td>\n",
       "      <td>0.155835</td>\n",
       "      <td>0.096551</td>\n",
       "      <td>0.005044</td>\n",
       "      <td>-0.068425</td>\n",
       "      <td>-0.354553</td>\n",
       "      <td>-0.036948</td>\n",
       "      <td>-0.027868</td>\n",
       "      <td>-0.048058</td>\n",
       "      <td>-0.138266</td>\n",
       "      <td>-0.098727</td>\n",
       "      <td>0.007675</td>\n",
       "      <td>-0.002861</td>\n",
       "      <td>0.169439</td>\n",
       "      <td>0.400306</td>\n",
       "      <td>0.237455</td>\n",
       "      <td>0.234889</td>\n",
       "      <td>1.000000</td>\n",
       "      <td>-0.145572</td>\n",
       "      <td>-0.167141</td>\n",
       "    </tr>\n",
       "    <tr>\n",
       "      <th>num_schools</th>\n",
       "      <td>-0.014380</td>\n",
       "      <td>-0.124359</td>\n",
       "      <td>-0.088299</td>\n",
       "      <td>-0.102032</td>\n",
       "      <td>-0.188106</td>\n",
       "      <td>-0.031535</td>\n",
       "      <td>-0.115432</td>\n",
       "      <td>0.251171</td>\n",
       "      <td>0.272856</td>\n",
       "      <td>0.196399</td>\n",
       "      <td>0.224312</td>\n",
       "      <td>0.228988</td>\n",
       "      <td>0.214163</td>\n",
       "      <td>0.262651</td>\n",
       "      <td>0.235246</td>\n",
       "      <td>0.071455</td>\n",
       "      <td>-0.212870</td>\n",
       "      <td>0.049756</td>\n",
       "      <td>0.037342</td>\n",
       "      <td>0.056985</td>\n",
       "      <td>-0.145572</td>\n",
       "      <td>1.000000</td>\n",
       "      <td>0.007361</td>\n",
       "    </tr>\n",
       "    <tr>\n",
       "      <th>tx_year</th>\n",
       "      <td>0.108782</td>\n",
       "      <td>-0.174081</td>\n",
       "      <td>-0.132110</td>\n",
       "      <td>-0.236190</td>\n",
       "      <td>-0.043301</td>\n",
       "      <td>-0.048207</td>\n",
       "      <td>-0.070075</td>\n",
       "      <td>0.044739</td>\n",
       "      <td>0.115674</td>\n",
       "      <td>0.027495</td>\n",
       "      <td>0.013558</td>\n",
       "      <td>-0.000324</td>\n",
       "      <td>0.034356</td>\n",
       "      <td>0.008066</td>\n",
       "      <td>0.028759</td>\n",
       "      <td>-0.118490</td>\n",
       "      <td>-0.134787</td>\n",
       "      <td>-0.189932</td>\n",
       "      <td>-0.257703</td>\n",
       "      <td>-0.254706</td>\n",
       "      <td>-0.167141</td>\n",
       "      <td>0.007361</td>\n",
       "      <td>1.000000</td>\n",
       "    </tr>\n",
       "  </tbody>\n",
       "</table>\n",
       "</div>"
      ],
      "text/plain": [
       "                    tx_price      beds     baths      sqft  year_built  \\\n",
       "tx_price            1.000000  0.384046  0.389375  0.469573    0.033138   \n",
       "beds                0.384046  1.000000  0.644572  0.691039   -0.011844   \n",
       "baths               0.389375  0.644572  1.000000  0.682060    0.206141   \n",
       "sqft                0.469573  0.691039  0.682060  1.000000    0.254589   \n",
       "year_built          0.033138 -0.011844  0.206141  0.254589    1.000000   \n",
       "lot_size            0.130558  0.164399  0.132976  0.246016    0.000068   \n",
       "basement            0.109479  0.414633  0.344108  0.270308    0.008846   \n",
       "restaurants        -0.038027 -0.495834 -0.350210 -0.353759   -0.106948   \n",
       "groceries          -0.094314 -0.421412 -0.340024 -0.371167   -0.222443   \n",
       "nightlife           0.009361 -0.440844 -0.306686 -0.281540   -0.080006   \n",
       "cafes              -0.001398 -0.464289 -0.316836 -0.300969   -0.102209   \n",
       "shopping           -0.038246 -0.388670 -0.259603 -0.275586   -0.121684   \n",
       "arts_entertainment -0.021076 -0.442168 -0.305885 -0.293402   -0.195141   \n",
       "beauty_spas        -0.054349 -0.419832 -0.282008 -0.310465   -0.163670   \n",
       "active_life        -0.001165 -0.486957 -0.329736 -0.332663   -0.134919   \n",
       "median_age          0.126335  0.133711  0.095844  0.109811   -0.237152   \n",
       "married             0.200494  0.643240  0.442225  0.480167    0.038208   \n",
       "college_grad        0.268577 -0.082354  0.016097  0.065343   -0.014204   \n",
       "property_tax        0.535148  0.547643  0.525776  0.660264   -0.046504   \n",
       "insurance           0.532947  0.485776  0.475430  0.594049   -0.109521   \n",
       "median_school       0.175762  0.137309  0.163365  0.220669    0.155835   \n",
       "num_schools        -0.014380 -0.124359 -0.088299 -0.102032   -0.188106   \n",
       "tx_year             0.108782 -0.174081 -0.132110 -0.236190   -0.043301   \n",
       "\n",
       "                    lot_size  basement  restaurants  groceries  nightlife  \\\n",
       "tx_price            0.130558  0.109479    -0.038027  -0.094314   0.009361   \n",
       "beds                0.164399  0.414633    -0.495834  -0.421412  -0.440844   \n",
       "baths               0.132976  0.344108    -0.350210  -0.340024  -0.306686   \n",
       "sqft                0.246016  0.270308    -0.353759  -0.371167  -0.281540   \n",
       "year_built          0.000068  0.008846    -0.106948  -0.222443  -0.080006   \n",
       "lot_size            1.000000  0.011123    -0.113887  -0.118574  -0.072224   \n",
       "basement            0.011123  1.000000    -0.456759  -0.270735  -0.516373   \n",
       "restaurants        -0.113887 -0.456759     1.000000   0.701462   0.926675   \n",
       "groceries          -0.118574 -0.270735     0.701462   1.000000   0.565003   \n",
       "nightlife          -0.072224 -0.516373     0.926675   0.565003   1.000000   \n",
       "cafes              -0.098182 -0.419202     0.937616   0.602857   0.923901   \n",
       "shopping           -0.116560 -0.271279     0.818815   0.526356   0.743321   \n",
       "arts_entertainment -0.067189 -0.470545     0.726907   0.502837   0.703038   \n",
       "beauty_spas        -0.121075 -0.337146     0.867829   0.626850   0.777461   \n",
       "active_life        -0.092668 -0.533192     0.881799   0.574532   0.858836   \n",
       "median_age          0.099140  0.111580    -0.063816  -0.022377  -0.028611   \n",
       "married             0.122028  0.447285    -0.615584  -0.508793  -0.568811   \n",
       "college_grad       -0.030725 -0.138711     0.214260  -0.006025   0.253717   \n",
       "property_tax        0.165800  0.184327    -0.100821  -0.159506  -0.054386   \n",
       "insurance           0.146579  0.138771    -0.019925  -0.093974   0.024551   \n",
       "median_school       0.096551  0.005044    -0.068425  -0.354553  -0.036948   \n",
       "num_schools        -0.031535 -0.115432     0.251171   0.272856   0.196399   \n",
       "tx_year            -0.048207 -0.070075     0.044739   0.115674   0.027495   \n",
       "\n",
       "                       cafes  shopping  arts_entertainment  beauty_spas  \\\n",
       "tx_price           -0.001398 -0.038246           -0.021076    -0.054349   \n",
       "beds               -0.464289 -0.388670           -0.442168    -0.419832   \n",
       "baths              -0.316836 -0.259603           -0.305885    -0.282008   \n",
       "sqft               -0.300969 -0.275586           -0.293402    -0.310465   \n",
       "year_built         -0.102209 -0.121684           -0.195141    -0.163670   \n",
       "lot_size           -0.098182 -0.116560           -0.067189    -0.121075   \n",
       "basement           -0.419202 -0.271279           -0.470545    -0.337146   \n",
       "restaurants         0.937616  0.818815            0.726907     0.867829   \n",
       "groceries           0.602857  0.526356            0.502837     0.626850   \n",
       "nightlife           0.923901  0.743321            0.703038     0.777461   \n",
       "cafes               1.000000  0.837058            0.694575     0.822541   \n",
       "shopping            0.837058  1.000000            0.653803     0.860987   \n",
       "arts_entertainment  0.694575  0.653803            1.000000     0.757860   \n",
       "beauty_spas         0.822541  0.860987            0.757860     1.000000   \n",
       "active_life         0.826648  0.678515            0.800994     0.785920   \n",
       "median_age          0.026400  0.032339           -0.014640    -0.002961   \n",
       "married            -0.581850 -0.454072           -0.554533    -0.510331   \n",
       "college_grad        0.266652  0.177383            0.239129     0.177066   \n",
       "property_tax       -0.044410 -0.040556           -0.066346    -0.057293   \n",
       "insurance           0.036502  0.018846            0.015380     0.010980   \n",
       "median_school      -0.027868 -0.048058           -0.138266    -0.098727   \n",
       "num_schools         0.224312  0.228988            0.214163     0.262651   \n",
       "tx_year             0.013558 -0.000324            0.034356     0.008066   \n",
       "\n",
       "                    active_life  median_age   married  college_grad  \\\n",
       "tx_price              -0.001165    0.126335  0.200494      0.268577   \n",
       "beds                  -0.486957    0.133711  0.643240     -0.082354   \n",
       "baths                 -0.329736    0.095844  0.442225      0.016097   \n",
       "sqft                  -0.332663    0.109811  0.480167      0.065343   \n",
       "year_built            -0.134919   -0.237152  0.038208     -0.014204   \n",
       "lot_size              -0.092668    0.099140  0.122028     -0.030725   \n",
       "basement              -0.533192    0.111580  0.447285     -0.138711   \n",
       "restaurants            0.881799   -0.063816 -0.615584      0.214260   \n",
       "groceries              0.574532   -0.022377 -0.508793     -0.006025   \n",
       "nightlife              0.858836   -0.028611 -0.568811      0.253717   \n",
       "cafes                  0.826648    0.026400 -0.581850      0.266652   \n",
       "shopping               0.678515    0.032339 -0.454072      0.177383   \n",
       "arts_entertainment     0.800994   -0.014640 -0.554533      0.239129   \n",
       "beauty_spas            0.785920   -0.002961 -0.510331      0.177066   \n",
       "active_life            1.000000   -0.081159 -0.632052      0.323985   \n",
       "median_age            -0.081159    1.000000  0.045555      0.169749   \n",
       "married               -0.632052    0.045555  1.000000     -0.143461   \n",
       "college_grad           0.323985    0.169749 -0.143461      1.000000   \n",
       "property_tax          -0.057646    0.215435  0.305330      0.287933   \n",
       "insurance              0.030911    0.232503  0.233701      0.326057   \n",
       "median_school          0.007675   -0.002861  0.169439      0.400306   \n",
       "num_schools            0.235246    0.071455 -0.212870      0.049756   \n",
       "tx_year                0.028759   -0.118490 -0.134787     -0.189932   \n",
       "\n",
       "                    property_tax  insurance  median_school  num_schools  \\\n",
       "tx_price                0.535148   0.532947       0.175762    -0.014380   \n",
       "beds                    0.547643   0.485776       0.137309    -0.124359   \n",
       "baths                   0.525776   0.475430       0.163365    -0.088299   \n",
       "sqft                    0.660264   0.594049       0.220669    -0.102032   \n",
       "year_built             -0.046504  -0.109521       0.155835    -0.188106   \n",
       "lot_size                0.165800   0.146579       0.096551    -0.031535   \n",
       "basement                0.184327   0.138771       0.005044    -0.115432   \n",
       "restaurants            -0.100821  -0.019925      -0.068425     0.251171   \n",
       "groceries              -0.159506  -0.093974      -0.354553     0.272856   \n",
       "nightlife              -0.054386   0.024551      -0.036948     0.196399   \n",
       "cafes                  -0.044410   0.036502      -0.027868     0.224312   \n",
       "shopping               -0.040556   0.018846      -0.048058     0.228988   \n",
       "arts_entertainment     -0.066346   0.015380      -0.138266     0.214163   \n",
       "beauty_spas            -0.057293   0.010980      -0.098727     0.262651   \n",
       "active_life            -0.057646   0.030911       0.007675     0.235246   \n",
       "median_age              0.215435   0.232503      -0.002861     0.071455   \n",
       "married                 0.305330   0.233701       0.169439    -0.212870   \n",
       "college_grad            0.287933   0.326057       0.400306     0.049756   \n",
       "property_tax            1.000000   0.984724       0.237455     0.037342   \n",
       "insurance               0.984724   1.000000       0.234889     0.056985   \n",
       "median_school           0.237455   0.234889       1.000000    -0.145572   \n",
       "num_schools             0.037342   0.056985      -0.145572     1.000000   \n",
       "tx_year                -0.257703  -0.254706      -0.167141     0.007361   \n",
       "\n",
       "                     tx_year  \n",
       "tx_price            0.108782  \n",
       "beds               -0.174081  \n",
       "baths              -0.132110  \n",
       "sqft               -0.236190  \n",
       "year_built         -0.043301  \n",
       "lot_size           -0.048207  \n",
       "basement           -0.070075  \n",
       "restaurants         0.044739  \n",
       "groceries           0.115674  \n",
       "nightlife           0.027495  \n",
       "cafes               0.013558  \n",
       "shopping           -0.000324  \n",
       "arts_entertainment  0.034356  \n",
       "beauty_spas         0.008066  \n",
       "active_life         0.028759  \n",
       "median_age         -0.118490  \n",
       "married            -0.134787  \n",
       "college_grad       -0.189932  \n",
       "property_tax       -0.257703  \n",
       "insurance          -0.254706  \n",
       "median_school      -0.167141  \n",
       "num_schools         0.007361  \n",
       "tx_year             1.000000  "
      ]
     },
     "execution_count": 30,
     "metadata": {},
     "output_type": "execute_result"
    }
   ],
   "source": [
    "df_correlations"
   ]
  },
  {
   "cell_type": "code",
   "execution_count": 34,
   "metadata": {},
   "outputs": [
    {
     "data": {
      "image/png": "[encoded data removed]",
      "text/plain": [
       "<Figure size 1152x1152 with 1 Axes>"
      ]
     },
     "metadata": {
      "needs_background": "light"
     },
     "output_type": "display_data"
    }
   ],
   "source": [
    "mask = np.zeros_like(df_correlations, dtype=np.bool)\n",
    "mask[np.triu_indices_from(mask)] = True\n",
    "plt.figure(figsize = (16,16))\n",
    "#ig, ax = plt.subplots(figsize=(15,15))\n",
    "sns.heatmap(df_correlations,cmap='RdBu_r',annot=True,mask = mask,cbar = False)\n",
    "plt.show()\n"
   ]
  },
  {
   "cell_type": "code",
   "execution_count": 35,
   "metadata": {},
   "outputs": [
    {
     "data": {
      "text/plain": [
       "(1883, 26)"
      ]
     },
     "execution_count": 35,
     "metadata": {},
     "output_type": "execute_result"
    }
   ],
   "source": [
    "#removing unwanted data observations\n",
    "#duplicate observations\n",
    "#irreleveant observations\n",
    "\n",
    "df = df.drop_duplicates()\n",
    "df.shape\n"
   ]
  },
  {
   "cell_type": "code",
   "execution_count": 36,
   "metadata": {},
   "outputs": [
    {
     "data": {
      "image/png": "[encoded data removed]",
      "text/plain": [
       "<Figure size 432x288 with 1 Axes>"
      ]
     },
     "metadata": {
      "needs_background": "light"
     },
     "output_type": "display_data"
    }
   ],
   "source": [
    "sns.countplot(y = df.exterior_walls)\n",
    "plt.show()"
   ]
  },
  {
   "cell_type": "code",
   "execution_count": 38,
   "metadata": {},
   "outputs": [],
   "source": [
    "df['basement']=df.fillna(0)"
   ]
  },
  {
   "cell_type": "code",
   "execution_count": 40,
   "metadata": {},
   "outputs": [
    {
     "data": {
      "image/png": "[encoded data removed]",
      "text/plain": [
       "<Figure size 432x288 with 1 Axes>"
      ]
     },
     "metadata": {
      "needs_background": "light"
     },
     "output_type": "display_data"
    }
   ],
   "source": [
    "sns.countplot(y = df.roof)\n",
    "plt.show()"
   ]
  },
  {
   "cell_type": "code",
   "execution_count": 41,
   "metadata": {},
   "outputs": [],
   "source": [
    "df.roof.replace('shake-shingle', 'Shake Shingle', inplace=True)"
   ]
  },
  {
   "cell_type": "code",
   "execution_count": 42,
   "metadata": {},
   "outputs": [],
   "source": [
    "df.roof.replace('composition', 'Composition', inplace=True)"
   ]
  },
  {
   "cell_type": "code",
   "execution_count": 44,
   "metadata": {},
   "outputs": [],
   "source": [
    "df.roof.replace('asphalt', 'Asphalt', inplace=True)"
   ]
  },
  {
   "cell_type": "code",
   "execution_count": 45,
   "metadata": {},
   "outputs": [
    {
     "data": {
      "image/png": "[encoded data removed]",
      "text/plain": [
       "<Figure size 432x288 with 1 Axes>"
      ]
     },
     "metadata": {
      "needs_background": "light"
     },
     "output_type": "display_data"
    }
   ],
   "source": [
    "sns.countplot(y = df.roof)\n",
    "plt.show()"
   ]
  },
  {
   "cell_type": "code",
   "execution_count": 46,
   "metadata": {},
   "outputs": [],
   "source": [
    "df.exterior_walls.replace('Rock, Stone', 'Masonry', inplace=True)"
   ]
  },
  {
   "cell_type": "code",
   "execution_count": 47,
   "metadata": {},
   "outputs": [],
   "source": [
    "df.exterior_walls.replace(['Concrete', 'Block'],'Concrete Block', inplace = True)"
   ]
  },
  {
   "cell_type": "code",
   "execution_count": 48,
   "metadata": {},
   "outputs": [
    {
     "data": {
      "text/plain": [
       "<matplotlib.axes._subplots.AxesSubplot at 0x18d7c090f98>"
      ]
     },
     "execution_count": 48,
     "metadata": {},
     "output_type": "execute_result"
    },
    {
     "data": {
      "image/png": "[encoded data removed]",
      "text/plain": [
       "<Figure size 432x288 with 1 Axes>"
      ]
     },
     "metadata": {
      "needs_background": "light"
     },
     "output_type": "display_data"
    }
   ],
   "source": [
    "sns.violinplot(df.tx_price)"
   ]
  },
  {
   "cell_type": "code",
   "execution_count": 49,
   "metadata": {},
   "outputs": [
    {
     "data": {
      "text/plain": [
       "<matplotlib.axes._subplots.AxesSubplot at 0x18d7c120f28>"
      ]
     },
     "execution_count": 49,
     "metadata": {},
     "output_type": "execute_result"
    },
    {
     "data": {
      "image/png": "[encoded data removed]",
      "text/plain": [
       "<Figure size 432x288 with 1 Axes>"
      ]
     },
     "metadata": {
      "needs_background": "light"
     },
     "output_type": "display_data"
    }
   ],
   "source": [
    "sns.boxplot(df.tx_price)"
   ]
  },
  {
   "cell_type": "code",
   "execution_count": 50,
   "metadata": {},
   "outputs": [
    {
     "data": {
      "image/png": "[encoded data removed]",
      "text/plain": [
       "<Figure size 432x288 with 1 Axes>"
      ]
     },
     "metadata": {
      "needs_background": "light"
     },
     "output_type": "display_data"
    },
    {
     "data": {
      "image/png": "[encoded data removed]",
      "text/plain": [
       "<Figure size 432x288 with 1 Axes>"
      ]
     },
     "metadata": {
      "needs_background": "light"
     },
     "output_type": "display_data"
    }
   ],
   "source": [
    "sns.violinplot(df.beds)\n",
    "plt.show()\n",
    "sns.boxplot(df.beds)\n",
    "plt.show()"
   ]
  },
  {
   "cell_type": "code",
   "execution_count": 51,
   "metadata": {},
   "outputs": [
    {
     "data": {
      "image/png": "[encoded data removed]",
      "text/plain": [
       "<Figure size 432x288 with 1 Axes>"
      ]
     },
     "metadata": {
      "needs_background": "light"
     },
     "output_type": "display_data"
    },
    {
     "data": {
      "image/png": "[encoded data removed]",
      "text/plain": [
       "<Figure size 432x288 with 1 Axes>"
      ]
     },
     "metadata": {
      "needs_background": "light"
     },
     "output_type": "display_data"
    }
   ],
   "source": [
    "sns.violinplot(df.lot_size)\n",
    "plt.show()\n",
    "sns.boxplot(df.lot_size)\n",
    "plt.show()"
   ]
  },
  {
   "cell_type": "code",
   "execution_count": 52,
   "metadata": {},
   "outputs": [
    {
     "data": {
      "image/png": "[encoded data removed]",
      "text/plain": [
       "<Figure size 432x288 with 1 Axes>"
      ]
     },
     "metadata": {
      "needs_background": "light"
     },
     "output_type": "display_data"
    },
    {
     "data": {
      "image/png": "[encoded data removed]",
      "text/plain": [
       "<Figure size 432x288 with 1 Axes>"
      ]
     },
     "metadata": {
      "needs_background": "light"
     },
     "output_type": "display_data"
    }
   ],
   "source": [
    "sns.violinplot(df.sqft)\n",
    "plt.show()\n",
    "sns.boxplot(df.sqft)\n",
    "plt.show()"
   ]
  },
  {
   "cell_type": "code",
   "execution_count": 53,
   "metadata": {},
   "outputs": [
    {
     "data": {
      "text/plain": [
       "102     1220551\n",
       "1111     436471\n",
       "1876     436035\n",
       "1832     436035\n",
       "1115     435600\n",
       "Name: lot_size, dtype: int64"
      ]
     },
     "execution_count": 53,
     "metadata": {},
     "output_type": "execute_result"
    }
   ],
   "source": [
    "df.lot_size.sort_values(ascending = False).head()"
   ]
  },
  {
   "cell_type": "code",
   "execution_count": 54,
   "metadata": {},
   "outputs": [],
   "source": [
    "df = df[df.lot_size <= 50000]"
   ]
  },
  {
   "cell_type": "code",
   "execution_count": 55,
   "metadata": {},
   "outputs": [
    {
     "name": "stdout",
     "output_type": "stream",
     "text": [
      "(1813, 26)\n"
     ]
    }
   ],
   "source": [
    "print(df.shape)"
   ]
  },
  {
   "cell_type": "code",
   "execution_count": 56,
   "metadata": {},
   "outputs": [],
   "source": [
    "df.exterior_walls.replace(np.nan,'Missing',inplace = True)"
   ]
  },
  {
   "cell_type": "code",
   "execution_count": 57,
   "metadata": {},
   "outputs": [
    {
     "data": {
      "text/plain": [
       "<matplotlib.axes._subplots.AxesSubplot at 0x18d7ba188d0>"
      ]
     },
     "execution_count": 57,
     "metadata": {},
     "output_type": "execute_result"
    },
    {
     "data": {
      "image/png": "[encoded data removed]",
      "text/plain": [
       "<Figure size 432x288 with 1 Axes>"
      ]
     },
     "metadata": {
      "needs_background": "light"
     },
     "output_type": "display_data"
    }
   ],
   "source": [
    "sns.countplot(y=df.exterior_walls)"
   ]
  },
  {
   "cell_type": "code",
   "execution_count": 58,
   "metadata": {},
   "outputs": [
    {
     "data": {
      "text/plain": [
       "property_type       0\n",
       "exterior_walls      0\n",
       "roof              329\n",
       "basement            0\n",
       "dtype: int64"
      ]
     },
     "execution_count": 58,
     "metadata": {},
     "output_type": "execute_result"
    }
   ],
   "source": [
    "df.select_dtypes(include = ['object']).isnull().sum()"
   ]
  },
  {
   "cell_type": "code",
   "execution_count": 60,
   "metadata": {},
   "outputs": [],
   "source": [
    "df.roof.replace(np.nan,'Missing',inplace = True)"
   ]
  },
  {
   "cell_type": "code",
   "execution_count": 61,
   "metadata": {},
   "outputs": [
    {
     "data": {
      "text/plain": [
       "property_type     0\n",
       "exterior_walls    0\n",
       "roof              0\n",
       "basement          0\n",
       "dtype: int64"
      ]
     },
     "execution_count": 61,
     "metadata": {},
     "output_type": "execute_result"
    }
   ],
   "source": [
    "df.select_dtypes(include = ['object']).isnull().sum()"
   ]
  },
  {
   "cell_type": "code",
   "execution_count": 72,
   "metadata": {},
   "outputs": [],
   "source": [
    "df['two_and_two'] = ((df.beds==2) & (df.baths==2)).astype(int)"
   ]
  },
  {
   "cell_type": "code",
   "execution_count": 63,
   "metadata": {},
   "outputs": [
    {
     "data": {
      "text/plain": [
       "0.09707666850523994"
      ]
     },
     "execution_count": 63,
     "metadata": {},
     "output_type": "execute_result"
    }
   ],
   "source": [
    "df.two_and_two.mean()"
   ]
  },
  {
   "cell_type": "code",
   "execution_count": 73,
   "metadata": {},
   "outputs": [],
   "source": [
    "df['during_recesion'] =((df.tx_year>=2010)&(df.tx_year<=2013)).astype(int)"
   ]
  },
  {
   "cell_type": "code",
   "execution_count": 65,
   "metadata": {},
   "outputs": [
    {
     "data": {
      "text/plain": [
       "0.26309983452840596"
      ]
     },
     "execution_count": 65,
     "metadata": {},
     "output_type": "execute_result"
    }
   ],
   "source": [
    "df.during_recesion.mean()"
   ]
  },
  {
   "cell_type": "code",
   "execution_count": 76,
   "metadata": {},
   "outputs": [],
   "source": [
    "#interaction features are operations between two or more features\n",
    "#ex:- property age\n",
    "df['property_age']= df.tx_year - df.year_built"
   ]
  },
  {
   "cell_type": "code",
   "execution_count": 67,
   "metadata": {},
   "outputs": [],
   "source": [
    "df = df[df.property_age>=0]"
   ]
  },
  {
   "cell_type": "code",
   "execution_count": 68,
   "metadata": {},
   "outputs": [],
   "source": [
    "df = pd.read_csv('cleaned_data.csv')"
   ]
  },
  {
   "cell_type": "code",
   "execution_count": 77,
   "metadata": {},
   "outputs": [
    {
     "data": {
      "text/plain": [
       "(1813, 29)"
      ]
     },
     "execution_count": 77,
     "metadata": {},
     "output_type": "execute_result"
    }
   ],
   "source": [
    "df.shape"
   ]
  },
  {
   "cell_type": "code",
   "execution_count": 74,
   "metadata": {},
   "outputs": [
    {
     "data": {
      "text/html": [
       "<div>\n",
       "<style scoped>\n",
       "    .dataframe tbody tr th:only-of-type {\n",
       "        vertical-align: middle;\n",
       "    }\n",
       "\n",
       "    .dataframe tbody tr th {\n",
       "        vertical-align: top;\n",
       "    }\n",
       "\n",
       "    .dataframe thead th {\n",
       "        text-align: right;\n",
       "    }\n",
       "</style>\n",
       "<table border=\"1\" class=\"dataframe\">\n",
       "  <thead>\n",
       "    <tr style=\"text-align: right;\">\n",
       "      <th></th>\n",
       "      <th>tx_price</th>\n",
       "      <th>beds</th>\n",
       "      <th>baths</th>\n",
       "      <th>sqft</th>\n",
       "      <th>year_built</th>\n",
       "      <th>lot_size</th>\n",
       "      <th>property_type</th>\n",
       "      <th>exterior_walls</th>\n",
       "      <th>roof</th>\n",
       "      <th>basement</th>\n",
       "      <th>restaurants</th>\n",
       "      <th>groceries</th>\n",
       "      <th>nightlife</th>\n",
       "      <th>cafes</th>\n",
       "      <th>shopping</th>\n",
       "      <th>arts_entertainment</th>\n",
       "      <th>beauty_spas</th>\n",
       "      <th>active_life</th>\n",
       "      <th>median_age</th>\n",
       "      <th>married</th>\n",
       "      <th>college_grad</th>\n",
       "      <th>property_tax</th>\n",
       "      <th>insurance</th>\n",
       "      <th>median_school</th>\n",
       "      <th>num_schools</th>\n",
       "      <th>tx_year</th>\n",
       "      <th>two_and_two</th>\n",
       "      <th>during_recesion</th>\n",
       "    </tr>\n",
       "  </thead>\n",
       "  <tbody>\n",
       "    <tr>\n",
       "      <th>0</th>\n",
       "      <td>295850</td>\n",
       "      <td>1</td>\n",
       "      <td>1</td>\n",
       "      <td>584</td>\n",
       "      <td>2013</td>\n",
       "      <td>0</td>\n",
       "      <td>Apartment / Condo / Townhouse</td>\n",
       "      <td>Wood Siding</td>\n",
       "      <td>NaN</td>\n",
       "      <td>0.0</td>\n",
       "      <td>107</td>\n",
       "      <td>9</td>\n",
       "      <td>30</td>\n",
       "      <td>19</td>\n",
       "      <td>89</td>\n",
       "      <td>6</td>\n",
       "      <td>47</td>\n",
       "      <td>58</td>\n",
       "      <td>33.0</td>\n",
       "      <td>65.0</td>\n",
       "      <td>84.0</td>\n",
       "      <td>234.0</td>\n",
       "      <td>81.0</td>\n",
       "      <td>9.0</td>\n",
       "      <td>3.0</td>\n",
       "      <td>2013</td>\n",
       "      <td>0</td>\n",
       "      <td>1</td>\n",
       "    </tr>\n",
       "    <tr>\n",
       "      <th>1</th>\n",
       "      <td>216500</td>\n",
       "      <td>1</td>\n",
       "      <td>1</td>\n",
       "      <td>612</td>\n",
       "      <td>1965</td>\n",
       "      <td>0</td>\n",
       "      <td>Apartment / Condo / Townhouse</td>\n",
       "      <td>Brick</td>\n",
       "      <td>Composition Shingle</td>\n",
       "      <td>1.0</td>\n",
       "      <td>105</td>\n",
       "      <td>15</td>\n",
       "      <td>6</td>\n",
       "      <td>13</td>\n",
       "      <td>87</td>\n",
       "      <td>2</td>\n",
       "      <td>26</td>\n",
       "      <td>14</td>\n",
       "      <td>39.0</td>\n",
       "      <td>73.0</td>\n",
       "      <td>69.0</td>\n",
       "      <td>169.0</td>\n",
       "      <td>51.0</td>\n",
       "      <td>3.0</td>\n",
       "      <td>3.0</td>\n",
       "      <td>2006</td>\n",
       "      <td>0</td>\n",
       "      <td>0</td>\n",
       "    </tr>\n",
       "    <tr>\n",
       "      <th>2</th>\n",
       "      <td>279900</td>\n",
       "      <td>1</td>\n",
       "      <td>1</td>\n",
       "      <td>615</td>\n",
       "      <td>1963</td>\n",
       "      <td>0</td>\n",
       "      <td>Apartment / Condo / Townhouse</td>\n",
       "      <td>Wood Siding</td>\n",
       "      <td>NaN</td>\n",
       "      <td>0.0</td>\n",
       "      <td>183</td>\n",
       "      <td>13</td>\n",
       "      <td>31</td>\n",
       "      <td>30</td>\n",
       "      <td>101</td>\n",
       "      <td>10</td>\n",
       "      <td>74</td>\n",
       "      <td>62</td>\n",
       "      <td>28.0</td>\n",
       "      <td>15.0</td>\n",
       "      <td>86.0</td>\n",
       "      <td>216.0</td>\n",
       "      <td>74.0</td>\n",
       "      <td>8.0</td>\n",
       "      <td>3.0</td>\n",
       "      <td>2012</td>\n",
       "      <td>0</td>\n",
       "      <td>1</td>\n",
       "    </tr>\n",
       "    <tr>\n",
       "      <th>3</th>\n",
       "      <td>379900</td>\n",
       "      <td>1</td>\n",
       "      <td>1</td>\n",
       "      <td>618</td>\n",
       "      <td>2000</td>\n",
       "      <td>33541</td>\n",
       "      <td>Apartment / Condo / Townhouse</td>\n",
       "      <td>Wood Siding</td>\n",
       "      <td>NaN</td>\n",
       "      <td>0.0</td>\n",
       "      <td>198</td>\n",
       "      <td>9</td>\n",
       "      <td>38</td>\n",
       "      <td>25</td>\n",
       "      <td>127</td>\n",
       "      <td>11</td>\n",
       "      <td>72</td>\n",
       "      <td>83</td>\n",
       "      <td>36.0</td>\n",
       "      <td>25.0</td>\n",
       "      <td>91.0</td>\n",
       "      <td>265.0</td>\n",
       "      <td>92.0</td>\n",
       "      <td>9.0</td>\n",
       "      <td>3.0</td>\n",
       "      <td>2005</td>\n",
       "      <td>0</td>\n",
       "      <td>0</td>\n",
       "    </tr>\n",
       "    <tr>\n",
       "      <th>4</th>\n",
       "      <td>340000</td>\n",
       "      <td>1</td>\n",
       "      <td>1</td>\n",
       "      <td>634</td>\n",
       "      <td>1992</td>\n",
       "      <td>0</td>\n",
       "      <td>Apartment / Condo / Townhouse</td>\n",
       "      <td>Brick</td>\n",
       "      <td>NaN</td>\n",
       "      <td>0.0</td>\n",
       "      <td>149</td>\n",
       "      <td>7</td>\n",
       "      <td>22</td>\n",
       "      <td>20</td>\n",
       "      <td>83</td>\n",
       "      <td>10</td>\n",
       "      <td>50</td>\n",
       "      <td>73</td>\n",
       "      <td>37.0</td>\n",
       "      <td>20.0</td>\n",
       "      <td>75.0</td>\n",
       "      <td>88.0</td>\n",
       "      <td>30.0</td>\n",
       "      <td>9.0</td>\n",
       "      <td>3.0</td>\n",
       "      <td>2002</td>\n",
       "      <td>0</td>\n",
       "      <td>0</td>\n",
       "    </tr>\n",
       "  </tbody>\n",
       "</table>\n",
       "</div>"
      ],
      "text/plain": [
       "   tx_price  beds  baths  sqft  year_built  lot_size  \\\n",
       "0    295850     1      1   584        2013         0   \n",
       "1    216500     1      1   612        1965         0   \n",
       "2    279900     1      1   615        1963         0   \n",
       "3    379900     1      1   618        2000     33541   \n",
       "4    340000     1      1   634        1992         0   \n",
       "\n",
       "                   property_type exterior_walls                 roof  \\\n",
       "0  Apartment / Condo / Townhouse    Wood Siding                  NaN   \n",
       "1  Apartment / Condo / Townhouse          Brick  Composition Shingle   \n",
       "2  Apartment / Condo / Townhouse    Wood Siding                  NaN   \n",
       "3  Apartment / Condo / Townhouse    Wood Siding                  NaN   \n",
       "4  Apartment / Condo / Townhouse          Brick                  NaN   \n",
       "\n",
       "   basement  restaurants  groceries  nightlife  cafes  shopping  \\\n",
       "0       0.0          107          9         30     19        89   \n",
       "1       1.0          105         15          6     13        87   \n",
       "2       0.0          183         13         31     30       101   \n",
       "3       0.0          198          9         38     25       127   \n",
       "4       0.0          149          7         22     20        83   \n",
       "\n",
       "   arts_entertainment  beauty_spas  active_life  median_age  married  \\\n",
       "0                   6           47           58        33.0     65.0   \n",
       "1                   2           26           14        39.0     73.0   \n",
       "2                  10           74           62        28.0     15.0   \n",
       "3                  11           72           83        36.0     25.0   \n",
       "4                  10           50           73        37.0     20.0   \n",
       "\n",
       "   college_grad  property_tax  insurance  median_school  num_schools  tx_year  \\\n",
       "0          84.0         234.0       81.0            9.0          3.0     2013   \n",
       "1          69.0         169.0       51.0            3.0          3.0     2006   \n",
       "2          86.0         216.0       74.0            8.0          3.0     2012   \n",
       "3          91.0         265.0       92.0            9.0          3.0     2005   \n",
       "4          75.0          88.0       30.0            9.0          3.0     2002   \n",
       "\n",
       "   two_and_two  during_recesion  \n",
       "0            0                1  \n",
       "1            0                0  \n",
       "2            0                1  \n",
       "3            0                0  \n",
       "4            0                0  "
      ]
     },
     "execution_count": 74,
     "metadata": {},
     "output_type": "execute_result"
    }
   ],
   "source": [
    "df.head()"
   ]
  },
  {
   "cell_type": "code",
   "execution_count": 78,
   "metadata": {},
   "outputs": [],
   "source": [
    "df['school_quality']=df.median_school*df.num_schools"
   ]
  },
  {
   "cell_type": "code",
   "execution_count": 79,
   "metadata": {},
   "outputs": [],
   "source": [
    "df.to_csv('engineered_data.csv',index = False)"
   ]
  },
  {
   "cell_type": "code",
   "execution_count": 80,
   "metadata": {},
   "outputs": [],
   "source": [
    "from sklearn.linear_model import ElasticNet,Ridge,Lasso\n",
    "from sklearn.ensemble import RandomForestRegressor, GradientBoostingRegressor\n",
    "from sklearn.model_selection import train_test_split "
   ]
  },
  {
   "cell_type": "code",
   "execution_count": 84,
   "metadata": {},
   "outputs": [],
   "source": [
    "x_train, x_test, y_train, y_test = train_test_split(x,y,test_size=0.2,random_state=1234)"
   ]
  },
  {
   "cell_type": "code",
   "execution_count": 83,
   "metadata": {},
   "outputs": [],
   "source": [
    "y = df.tx_price\n",
    "df1 = df.select_dtypes(exclude= ['object'])\n",
    "x = df1.drop('tx_price',axis=1)"
   ]
  },
  {
   "cell_type": "code",
   "execution_count": 106,
   "metadata": {},
   "outputs": [],
   "source": [
    "#df.select_dtypes(include = ['object']).isnull().sum()\n",
    "#sns.countplot(y=df.exterior_walls)\n",
    "#plt.show()\n",
    "#sns.countplot(y=df.property_type)\n",
    "#plt.show()\n",
    "#sns.countplot(y=df.roof)\n",
    "#plt.show()\n",
    "x_test_new = (x_test - x_train.mean())/x_train.std()\n",
    "y_test_new = (y_test - y_train.mean())/y_train.std()\n",
    "y_train_new = (y_train - y_train.mean())/y_train.std()\n",
    "x_train_new = (x_train - x_train.mean())/x_train.std()\n",
    "#x_train_new"
   ]
  },
  {
   "cell_type": "code",
   "execution_count": 86,
   "metadata": {},
   "outputs": [],
   "source": [
    "from sklearn.pipeline import make_pipeline\n",
    "from sklearn.preprocessing import StandardScaler"
   ]
  },
  {
   "cell_type": "code",
   "execution_count": 87,
   "metadata": {},
   "outputs": [
    {
     "data": {
      "text/plain": [
       "Pipeline(memory=None,\n",
       "     steps=[('standardscaler', StandardScaler(copy=True, with_mean=True, with_std=True)), ('lasso', Lasso(alpha=1.0, copy_X=True, fit_intercept=True, max_iter=1000,\n",
       "   normalize=False, positive=False, precompute=False, random_state=123,\n",
       "   selection='cyclic', tol=0.0001, warm_start=False))])"
      ]
     },
     "execution_count": 87,
     "metadata": {},
     "output_type": "execute_result"
    }
   ],
   "source": [
    "make_pipeline(StandardScaler(),Lasso(random_state=123))"
   ]
  },
  {
   "cell_type": "code",
   "execution_count": 141,
   "metadata": {},
   "outputs": [],
   "source": [
    "pipelines = {'lasso':make_pipeline(StandardScaler(),Lasso(random_state=123)), 'enet' : make_pipeline(StandardScaler(),ElasticNet(random_state=123)), 'ridge': make_pipeline(StandardScaler(),Ridge(random_state=123))}"
   ]
  },
  {
   "cell_type": "code",
   "execution_count": 142,
   "metadata": {},
   "outputs": [],
   "source": [
    "pipelines['rf'] = make_pipeline(StandardScaler(),RandomForestRegressor(random_state=123))\n",
    "pipelines['gb'] = make_pipeline(StandardScaler(),GradientBoostingRegressor(random_state=123))"
   ]
  },
  {
   "cell_type": "code",
   "execution_count": 143,
   "metadata": {},
   "outputs": [
    {
     "name": "stdout",
     "output_type": "stream",
     "text": [
      "lasso <class 'sklearn.pipeline.Pipeline'>\n",
      "enet <class 'sklearn.pipeline.Pipeline'>\n",
      "ridge <class 'sklearn.pipeline.Pipeline'>\n",
      "rf <class 'sklearn.pipeline.Pipeline'>\n",
      "gb <class 'sklearn.pipeline.Pipeline'>\n"
     ]
    }
   ],
   "source": [
    "for key,value in pipelines.items():\n",
    "    print(key,type(value))"
   ]
  },
  {
   "cell_type": "code",
   "execution_count": 91,
   "metadata": {},
   "outputs": [
    {
     "data": {
      "text/plain": [
       "{'memory': None,\n",
       " 'steps': [('standardscaler',\n",
       "   StandardScaler(copy=True, with_mean=True, with_std=True)),\n",
       "  ('lasso', Lasso(alpha=1.0, copy_X=True, fit_intercept=True, max_iter=1000,\n",
       "      normalize=False, positive=False, precompute=False, random_state=123,\n",
       "      selection='cyclic', tol=0.0001, warm_start=False))],\n",
       " 'standardscaler': StandardScaler(copy=True, with_mean=True, with_std=True),\n",
       " 'lasso': Lasso(alpha=1.0, copy_X=True, fit_intercept=True, max_iter=1000,\n",
       "    normalize=False, positive=False, precompute=False, random_state=123,\n",
       "    selection='cyclic', tol=0.0001, warm_start=False),\n",
       " 'standardscaler__copy': True,\n",
       " 'standardscaler__with_mean': True,\n",
       " 'standardscaler__with_std': True,\n",
       " 'lasso__alpha': 1.0,\n",
       " 'lasso__copy_X': True,\n",
       " 'lasso__fit_intercept': True,\n",
       " 'lasso__max_iter': 1000,\n",
       " 'lasso__normalize': False,\n",
       " 'lasso__positive': False,\n",
       " 'lasso__precompute': False,\n",
       " 'lasso__random_state': 123,\n",
       " 'lasso__selection': 'cyclic',\n",
       " 'lasso__tol': 0.0001,\n",
       " 'lasso__warm_start': False}"
      ]
     },
     "execution_count": 91,
     "metadata": {},
     "output_type": "execute_result"
    }
   ],
   "source": [
    "pipelines['Lasso'].get_params()"
   ]
  },
  {
   "cell_type": "code",
   "execution_count": 98,
   "metadata": {},
   "outputs": [],
   "source": [
    "lasso_hyperparameters={\n",
    "    'lasso__alpha':[0.001,0.005,0.01,0.05,0.5,1,5,10]\n",
    "    \n",
    "}\n",
    "ridge_hyperparameters={\n",
    "    'ridge__alpha':[0.001,0.005,0.01,0.05,0.5,1,5,10]\n",
    "}"
   ]
  },
  {
   "cell_type": "code",
   "execution_count": 94,
   "metadata": {},
   "outputs": [],
   "source": [
    "enet_hyperparameters={\n",
    "    'elasticnet__alpha':[0.001,0.005,0.01,0.05,0.5,1,5,10],\n",
    "    'elasticnet__l1_ratio':[0.1, 0.3, 0.5, 0.7, 0.9]\n",
    "}"
   ]
  },
  {
   "cell_type": "code",
   "execution_count": 96,
   "metadata": {},
   "outputs": [],
   "source": [
    "rf_hyperparameters={\n",
    "    'randomforestregressor__n_estimators': [100, 200],\n",
    "    'randomforestregressor__max_features': ['auto', 'sqrt', 0.33]\n",
    "}"
   ]
  },
  {
   "cell_type": "code",
   "execution_count": 97,
   "metadata": {},
   "outputs": [],
   "source": [
    "gb_hyperparameters={\n",
    "    'gradientboostingregressor__n_estimators': [100, 200],\n",
    "    'gradientboostingregressor__learning_rate': [0.05, 0.1, 0.2],\n",
    "    'gradientboostingregressor__max_depth': [1, 3, 5]\n",
    "\n",
    "\n",
    "}"
   ]
  },
  {
   "cell_type": "code",
   "execution_count": 99,
   "metadata": {},
   "outputs": [],
   "source": [
    "hyperparameters = {\n",
    "    'rf':rf_hyperparameters,\n",
    "    'gb':gb_hyperparameters,\n",
    "    'lasso':lasso_hyperparameters,\n",
    "    'ridge':ridge_hyperparameters,\n",
    "    'enet':enet_hyperparameters\n",
    "}"
   ]
  },
  {
   "cell_type": "code",
   "execution_count": 100,
   "metadata": {},
   "outputs": [],
   "source": [
    "from sklearn.model_selection import GridSearchCV"
   ]
  },
  {
   "cell_type": "code",
   "execution_count": 103,
   "metadata": {},
   "outputs": [],
   "source": [
    "model = GridSearchCV(pipelines['Lasso'],hyperparameters['lasso'],cv=10,n_jobs=-1)"
   ]
  },
  {
   "cell_type": "code",
   "execution_count": 104,
   "metadata": {},
   "outputs": [
    {
     "data": {
      "text/plain": [
       "sklearn.model_selection._search.GridSearchCV"
      ]
     },
     "execution_count": 104,
     "metadata": {},
     "output_type": "execute_result"
    }
   ],
   "source": [
    "type(model)"
   ]
  },
  {
   "cell_type": "code",
   "execution_count": 139,
   "metadata": {},
   "outputs": [
    {
     "name": "stderr",
     "output_type": "stream",
     "text": [
      "C:\\ProgramData\\Anaconda3\\lib\\site-packages\\sklearn\\preprocessing\\data.py:645: DataConversionWarning: Data with input dtype int32, int64, float64 were all converted to float64 by StandardScaler.\n",
      "  return self.partial_fit(X, y)\n",
      "C:\\ProgramData\\Anaconda3\\lib\\site-packages\\sklearn\\base.py:467: DataConversionWarning: Data with input dtype int32, int64, float64 were all converted to float64 by StandardScaler.\n",
      "  return self.fit(X, y, **fit_params).transform(X)\n"
     ]
    },
    {
     "data": {
      "text/plain": [
       "GridSearchCV(cv=10, error_score='raise-deprecating',\n",
       "       estimator=Pipeline(memory=None,\n",
       "     steps=[('standardscaler', StandardScaler(copy=True, with_mean=True, with_std=True)), ('gradientboostingregressor', GradientBoostingRegressor(alpha=0.9, criterion='friedman_mse', init=None,\n",
       "             learning_rate=0.1, loss='ls', max_depth=3, max_features=None,\n",
       "             max_leaf_nodes=None, mi...123, subsample=1.0, tol=0.0001,\n",
       "             validation_fraction=0.1, verbose=0, warm_start=False))]),\n",
       "       fit_params=None, iid='warn', n_jobs=-1,\n",
       "       param_grid={'gradientboostingregressor__n_estimators': [100, 200], 'gradientboostingregressor__learning_rate': [0.05, 0.1, 0.2], 'gradientboostingregressor__max_depth': [1, 3, 5]},\n",
       "       pre_dispatch='2*n_jobs', refit=True, return_train_score='warn',\n",
       "       scoring=None, verbose=0)"
      ]
     },
     "execution_count": 139,
     "metadata": {},
     "output_type": "execute_result"
    }
   ],
   "source": [
    "model.fit(x_train,y_train)"
   ]
  },
  {
   "cell_type": "code",
   "execution_count": 144,
   "metadata": {},
   "outputs": [
    {
     "name": "stderr",
     "output_type": "stream",
     "text": [
      "C:\\ProgramData\\Anaconda3\\lib\\site-packages\\sklearn\\preprocessing\\data.py:645: DataConversionWarning: Data with input dtype int32, int64, float64 were all converted to float64 by StandardScaler.\n",
      "  return self.partial_fit(X, y)\n",
      "C:\\ProgramData\\Anaconda3\\lib\\site-packages\\sklearn\\base.py:467: DataConversionWarning: Data with input dtype int32, int64, float64 were all converted to float64 by StandardScaler.\n",
      "  return self.fit(X, y, **fit_params).transform(X)\n",
      "C:\\ProgramData\\Anaconda3\\lib\\site-packages\\sklearn\\linear_model\\coordinate_descent.py:492: ConvergenceWarning: Objective did not converge. You might want to increase the number of iterations. Fitting data with very small alpha may cause precision problems.\n",
      "  ConvergenceWarning)\n"
     ]
    },
    {
     "name": "stdout",
     "output_type": "stream",
     "text": [
      "lasso has been fitted.\n"
     ]
    },
    {
     "name": "stderr",
     "output_type": "stream",
     "text": [
      "C:\\ProgramData\\Anaconda3\\lib\\site-packages\\sklearn\\preprocessing\\data.py:645: DataConversionWarning: Data with input dtype int32, int64, float64 were all converted to float64 by StandardScaler.\n",
      "  return self.partial_fit(X, y)\n",
      "C:\\ProgramData\\Anaconda3\\lib\\site-packages\\sklearn\\base.py:467: DataConversionWarning: Data with input dtype int32, int64, float64 were all converted to float64 by StandardScaler.\n",
      "  return self.fit(X, y, **fit_params).transform(X)\n"
     ]
    },
    {
     "name": "stdout",
     "output_type": "stream",
     "text": [
      "enet has been fitted.\n"
     ]
    },
    {
     "name": "stderr",
     "output_type": "stream",
     "text": [
      "C:\\ProgramData\\Anaconda3\\lib\\site-packages\\sklearn\\preprocessing\\data.py:645: DataConversionWarning: Data with input dtype int32, int64, float64 were all converted to float64 by StandardScaler.\n",
      "  return self.partial_fit(X, y)\n",
      "C:\\ProgramData\\Anaconda3\\lib\\site-packages\\sklearn\\base.py:467: DataConversionWarning: Data with input dtype int32, int64, float64 were all converted to float64 by StandardScaler.\n",
      "  return self.fit(X, y, **fit_params).transform(X)\n"
     ]
    },
    {
     "name": "stdout",
     "output_type": "stream",
     "text": [
      "ridge has been fitted.\n"
     ]
    },
    {
     "name": "stderr",
     "output_type": "stream",
     "text": [
      "C:\\ProgramData\\Anaconda3\\lib\\site-packages\\sklearn\\preprocessing\\data.py:645: DataConversionWarning: Data with input dtype int32, int64, float64 were all converted to float64 by StandardScaler.\n",
      "  return self.partial_fit(X, y)\n",
      "C:\\ProgramData\\Anaconda3\\lib\\site-packages\\sklearn\\base.py:467: DataConversionWarning: Data with input dtype int32, int64, float64 were all converted to float64 by StandardScaler.\n",
      "  return self.fit(X, y, **fit_params).transform(X)\n"
     ]
    },
    {
     "name": "stdout",
     "output_type": "stream",
     "text": [
      "rf has been fitted.\n"
     ]
    },
    {
     "name": "stderr",
     "output_type": "stream",
     "text": [
      "C:\\ProgramData\\Anaconda3\\lib\\site-packages\\sklearn\\preprocessing\\data.py:645: DataConversionWarning: Data with input dtype int32, int64, float64 were all converted to float64 by StandardScaler.\n",
      "  return self.partial_fit(X, y)\n",
      "C:\\ProgramData\\Anaconda3\\lib\\site-packages\\sklearn\\base.py:467: DataConversionWarning: Data with input dtype int32, int64, float64 were all converted to float64 by StandardScaler.\n",
      "  return self.fit(X, y, **fit_params).transform(X)\n"
     ]
    },
    {
     "name": "stdout",
     "output_type": "stream",
     "text": [
      "gb has been fitted.\n"
     ]
    }
   ],
   "source": [
    "fitted_models = {}\n",
    "for name, pipelines in pipelines.items():\n",
    "    model =GridSearchCV(pipelines,hyperparameters[name],cv=10,n_jobs=-1)\n",
    "    model.fit(x_train,y_train)\n",
    "    fitted_models[name]=model\n",
    "    print(name , 'has been fitted.')"
   ]
  },
  {
   "cell_type": "code",
   "execution_count": 122,
   "metadata": {},
   "outputs": [
    {
     "data": {
      "text/plain": [
       "dict_items([('lasso', Pipeline(memory=None,\n",
       "     steps=[('standardscaler', StandardScaler(copy=True, with_mean=True, with_std=True)), ('lasso', Lasso(alpha=1.0, copy_X=True, fit_intercept=True, max_iter=1000,\n",
       "   normalize=False, positive=False, precompute=False, random_state=123,\n",
       "   selection='cyclic', tol=0.0001, warm_start=False))])), ('enet', Pipeline(memory=None,\n",
       "     steps=[('standardscaler', StandardScaler(copy=True, with_mean=True, with_std=True)), ('elasticnet', ElasticNet(alpha=1.0, copy_X=True, fit_intercept=True, l1_ratio=0.5,\n",
       "      max_iter=1000, normalize=False, positive=False, precompute=False,\n",
       "      random_state=123, selection='cyclic', tol=0.0001, warm_start=False))])), ('ridge', Pipeline(memory=None,\n",
       "     steps=[('standardscaler', StandardScaler(copy=True, with_mean=True, with_std=True)), ('ridge', Ridge(alpha=1.0, copy_X=True, fit_intercept=True, max_iter=None,\n",
       "   normalize=False, random_state=123, solver='auto', tol=0.001))])), ('rf', Pipeline(memory=None,\n",
       "     steps=[('standardscaler', StandardScaler(copy=True, with_mean=True, with_std=True)), ('randomforestregressor', RandomForestRegressor(bootstrap=True, criterion='mse', max_depth=None,\n",
       "           max_features='auto', max_leaf_nodes=None,\n",
       "           min_impurity_decrease=0.0, min_impurity_split=None,\n",
       "  ...rs='warn', n_jobs=None,\n",
       "           oob_score=False, random_state=123, verbose=0, warm_start=False))])), ('gb', Pipeline(memory=None,\n",
       "     steps=[('standardscaler', StandardScaler(copy=True, with_mean=True, with_std=True)), ('gradientboostingregressor', GradientBoostingRegressor(alpha=0.9, criterion='friedman_mse', init=None,\n",
       "             learning_rate=0.1, loss='ls', max_depth=3, max_features=None,\n",
       "             max_leaf_nodes=None, mi...123, subsample=1.0, tol=0.0001,\n",
       "             validation_fraction=0.1, verbose=0, warm_start=False))]))])"
      ]
     },
     "execution_count": 122,
     "metadata": {},
     "output_type": "execute_result"
    }
   ],
   "source": []
  },
  {
   "cell_type": "code",
   "execution_count": 124,
   "metadata": {},
   "outputs": [],
   "source": [
    "from sklearn.exceptions import NotFittedError"
   ]
  },
  {
   "cell_type": "code",
   "execution_count": 145,
   "metadata": {},
   "outputs": [
    {
     "name": "stdout",
     "output_type": "stream",
     "text": [
      "lasso has been fitted\n",
      "enet has been fitted\n",
      "ridge has been fitted\n",
      "rf has been fitted\n",
      "gb has been fitted\n"
     ]
    }
   ],
   "source": [
    "for name,model in fitted_models.items():\n",
    "    try:\n",
    "        pred = model.predict(x_test_new)\n",
    "        print(name,'has been fitted')\n",
    "    except NotFittedError as e:\n",
    "        print(repr(e))\n",
    "#making sure that the models have been correctlty fitted"
   ]
  },
  {
   "cell_type": "code",
   "execution_count": 128,
   "metadata": {},
   "outputs": [],
   "source": [
    "#METRICS AND MODEL SELECTION\n"
   ]
  },
  {
   "cell_type": "code",
   "execution_count": 146,
   "metadata": {},
   "outputs": [
    {
     "name": "stdout",
     "output_type": "stream",
     "text": [
      "lasso 0.46001796493631114\n",
      "enet 0.462033876161321\n",
      "ridge 0.46112380641696626\n",
      "rf 0.794215079834245\n",
      "gb 0.8093619350674867\n"
     ]
    }
   ],
   "source": [
    "for name,model in fitted_models.items():\n",
    "    print(name,model.best_score_)\n",
    "#by default R2 scores are evaluated"
   ]
  },
  {
   "cell_type": "code",
   "execution_count": 131,
   "metadata": {},
   "outputs": [],
   "source": [
    "from sklearn.metrics import r2_score"
   ]
  },
  {
   "cell_type": "code",
   "execution_count": 132,
   "metadata": {},
   "outputs": [],
   "source": [
    "from sklearn.metrics import mean_absolute_error"
   ]
  },
  {
   "cell_type": "code",
   "execution_count": 148,
   "metadata": {},
   "outputs": [
    {
     "name": "stdout",
     "output_type": "stream",
     "text": [
      "lasso\n",
      "------\n",
      "R2 : 0.29038499231513415\n",
      "MAE: 84154.46897888342\n",
      "enet\n",
      "------\n",
      "R2 : 0.29215889638448644\n",
      "MAE: 84831.67758927327\n",
      "ridge\n",
      "------\n",
      "R2 : 0.28684174491739656\n",
      "MAE: 84429.39089298189\n",
      "rf\n",
      "------\n",
      "R2 : 0.8243752672983758\n",
      "MAE: 44196.798760330574\n",
      "gb\n",
      "------\n",
      "R2 : 0.8362653831610385\n",
      "MAE: 42625.48127110388\n"
     ]
    },
    {
     "name": "stderr",
     "output_type": "stream",
     "text": [
      "C:\\ProgramData\\Anaconda3\\lib\\site-packages\\sklearn\\pipeline.py:331: DataConversionWarning: Data with input dtype int32, int64, float64 were all converted to float64 by StandardScaler.\n",
      "  Xt = transform.transform(Xt)\n",
      "C:\\ProgramData\\Anaconda3\\lib\\site-packages\\sklearn\\pipeline.py:331: DataConversionWarning: Data with input dtype int32, int64, float64 were all converted to float64 by StandardScaler.\n",
      "  Xt = transform.transform(Xt)\n",
      "C:\\ProgramData\\Anaconda3\\lib\\site-packages\\sklearn\\pipeline.py:331: DataConversionWarning: Data with input dtype int32, int64, float64 were all converted to float64 by StandardScaler.\n",
      "  Xt = transform.transform(Xt)\n",
      "C:\\ProgramData\\Anaconda3\\lib\\site-packages\\sklearn\\pipeline.py:331: DataConversionWarning: Data with input dtype int32, int64, float64 were all converted to float64 by StandardScaler.\n",
      "  Xt = transform.transform(Xt)\n",
      "C:\\ProgramData\\Anaconda3\\lib\\site-packages\\sklearn\\pipeline.py:331: DataConversionWarning: Data with input dtype int32, int64, float64 were all converted to float64 by StandardScaler.\n",
      "  Xt = transform.transform(Xt)\n"
     ]
    }
   ],
   "source": [
    "for name,model in fitted_models.items():\n",
    "    pred = model.predict(x_test)\n",
    "    print(name)\n",
    "    print('------')\n",
    "    print('R2 :', r2_score(y_test,pred))\n",
    "    print('MAE:', mean_absolute_error(y_test,pred))"
   ]
  },
  {
   "cell_type": "code",
   "execution_count": 138,
   "metadata": {},
   "outputs": [],
   "source": [
    "#the selected model from the metrics is gb\n",
    "#more R2 and less MAE"
   ]
  },
  {
   "cell_type": "code",
   "execution_count": 150,
   "metadata": {},
   "outputs": [
    {
     "name": "stderr",
     "output_type": "stream",
     "text": [
      "C:\\ProgramData\\Anaconda3\\lib\\site-packages\\sklearn\\pipeline.py:331: DataConversionWarning: Data with input dtype int32, int64, float64 were all converted to float64 by StandardScaler.\n",
      "  Xt = transform.transform(Xt)\n"
     ]
    },
    {
     "data": {
      "image/png": "[encoded data removed]",
      "text/plain": [
       "<Figure size 432x288 with 1 Axes>"
      ]
     },
     "metadata": {
      "needs_background": "light"
     },
     "output_type": "display_data"
    }
   ],
   "source": [
    "gb_pred = fitted_models['gb'].predict(x_test)\n",
    "plt.scatter(gb_pred, y_test)\n",
    "plt.xlabel('predicted')\n",
    "plt.ylabel('actual')\n",
    "plt.show()"
   ]
  },
  {
   "cell_type": "code",
   "execution_count": 153,
   "metadata": {},
   "outputs": [],
   "source": [
    "import pickle\n",
    "with open('final_model.pkl','wb') as f:\n",
    "    pickle.dump(fitted_models['rf'].best_estimator_,f)"
   ]
  },
  {
   "cell_type": "code",
   "execution_count": null,
   "metadata": {},
   "outputs": [],
   "source": []
  }
 ],
 "metadata": {
  "kernelspec": {
   "display_name": "Python 3",
   "language": "python",
   "name": "python3"
  },
  "language_info": {
   "codemirror_mode": {
    "name": "ipython",
    "version": 3
   },
   "file_extension": ".py",
   "mimetype": "text/x-python",
   "name": "python",
   "nbconvert_exporter": "python",
   "pygments_lexer": "ipython3",
   "version": "3.7.3"
  }
 },
 "nbformat": 4,
 "nbformat_minor": 2
}
