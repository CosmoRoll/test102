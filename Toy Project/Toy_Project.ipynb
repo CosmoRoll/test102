{
 "cells": [
  {
   "cell_type": "code",
   "execution_count": 2,
   "metadata": {},
   "outputs": [],
   "source": [
    "import numpy as np\n",
    "import pandas as pd\n",
    "import matplotlib.pyplot as plt\n",
    "import seaborn as sns\n"
   ]
  },
  {
   "cell_type": "code",
   "execution_count": 3,
   "metadata": {},
   "outputs": [],
   "source": [
    "x = np.linspace(0,2*np.pi,100)\n",
    "np.random.seed(321)\n",
    "noise = np.random.normal(0,0.5,100)\n",
    "y = np.sin(x) + noise"
   ]
  },
  {
   "cell_type": "code",
   "execution_count": 4,
   "metadata": {},
   "outputs": [],
   "source": [
    "df = pd.DataFrame({'x':x, 'y':y})"
   ]
  },
  {
   "cell_type": "code",
   "execution_count": 5,
   "metadata": {},
   "outputs": [
    {
     "name": "stdout",
     "output_type": "stream",
     "text": [
      "           x         y\n",
      "0   0.000000  0.086260\n",
      "1   0.063467  0.881165\n",
      "2   0.126933  0.145261\n",
      "3   0.190400 -0.252824\n",
      "4   0.253866 -0.320448\n",
      "5   0.317333  0.001350\n",
      "6   0.380799 -0.302662\n",
      "7   0.444266  0.019929\n",
      "8   0.507732  0.419070\n",
      "9   0.571199  1.340441\n",
      "10  0.634665  0.451106\n",
      "11  0.698132  0.389618\n",
      "12  0.761598  0.724533\n",
      "13  0.825065  1.460721\n",
      "14  0.888531 -0.043401\n",
      "15  0.951998  0.658246\n",
      "16  1.015464  0.414092\n",
      "17  1.078931  0.653112\n",
      "18  1.142397  0.848399\n",
      "19  1.205864  0.708617\n",
      "20  1.269330  0.408760\n",
      "21  1.332797  0.290722\n",
      "22  1.396263  0.901814\n",
      "23  1.459730  1.316533\n",
      "24  1.523196  1.406404\n",
      "25  1.586663  0.990594\n",
      "26  1.650129  1.213545\n",
      "27  1.713596  1.177240\n",
      "28  1.777063  0.534272\n",
      "29  1.840529  1.169979\n",
      "..       ...       ...\n",
      "70  4.442656 -1.623223\n",
      "71  4.506123 -1.096955\n",
      "72  4.569589 -0.646215\n",
      "73  4.633056 -0.946886\n",
      "74  4.696522 -0.546898\n",
      "75  4.759989 -1.593469\n",
      "76  4.823455 -0.858750\n",
      "77  4.886922 -1.046242\n",
      "78  4.950388 -0.439051\n",
      "79  5.013855 -0.509549\n",
      "80  5.077321 -1.077500\n",
      "81  5.140788 -0.920301\n",
      "82  5.204254 -0.421793\n",
      "83  5.267721 -1.202799\n",
      "84  5.331188 -1.238679\n",
      "85  5.394654 -1.313371\n",
      "86  5.458121 -0.710581\n",
      "87  5.521587 -0.919428\n",
      "88  5.585054 -1.044310\n",
      "89  5.648520 -0.881881\n",
      "90  5.711987 -0.145892\n",
      "91  5.775453 -1.111074\n",
      "92  5.838920 -0.068564\n",
      "93  5.902386 -0.376373\n",
      "94  5.965853  1.173961\n",
      "95  6.029319 -0.312249\n",
      "96  6.092786  0.443255\n",
      "97  6.156252 -0.122903\n",
      "98  6.219719 -0.961879\n",
      "99  6.283185 -0.268629\n",
      "\n",
      "[100 rows x 2 columns]\n"
     ]
    }
   ],
   "source": [
    "print(df)\n"
   ]
  },
  {
   "cell_type": "code",
   "execution_count": 6,
   "metadata": {},
   "outputs": [
    {
     "data": {
      "image/png": "[encoded data removed]",
      "text/plain": [
       "<Figure size 432x288 with 1 Axes>"
      ]
     },
     "metadata": {
      "needs_background": "light"
     },
     "output_type": "display_data"
    }
   ],
   "source": [
    "plt.scatter(x,y,) \n",
    "plt.plot(x,np.sin(x),color = 'y')\n",
    "plt.show()\n"
   ]
  },
  {
   "cell_type": "code",
   "execution_count": 7,
   "metadata": {},
   "outputs": [],
   "source": [
    "df.to_csv('simulated_data.csv',index = False)"
   ]
  },
  {
   "cell_type": "code",
   "execution_count": 8,
   "metadata": {},
   "outputs": [],
   "source": [
    "sns.set_style('darkgrid')\n"
   ]
  },
  {
   "cell_type": "code",
   "execution_count": 9,
   "metadata": {},
   "outputs": [],
   "source": [
    "pred = np.mean(df.y)"
   ]
  },
  {
   "cell_type": "code",
   "execution_count": 10,
   "metadata": {},
   "outputs": [],
   "source": [
    "pred =  round(pred,4)"
   ]
  },
  {
   "cell_type": "code",
   "execution_count": 11,
   "metadata": {},
   "outputs": [],
   "source": [
    "y1 = [pred]*100\n"
   ]
  },
  {
   "cell_type": "markdown",
   "metadata": {},
   "source": []
  },
  {
   "cell_type": "code",
   "execution_count": 12,
   "metadata": {},
   "outputs": [
    {
     "data": {
      "image/png": "[encoded data removed]",
      "text/plain": [
       "<Figure size 432x288 with 1 Axes>"
      ]
     },
     "metadata": {},
     "output_type": "display_data"
    }
   ],
   "source": [
    "plt.scatter(df.x,df.y)\n",
    "plt.plot(df.x,y1,color = 'm')\n",
    "plt.show()"
   ]
  },
  {
   "cell_type": "code",
   "execution_count": 13,
   "metadata": {},
   "outputs": [
    {
     "name": "stdout",
     "output_type": "stream",
     "text": [
      "(2, 1)\n"
     ]
    }
   ],
   "source": [
    "theta_0 = 0\n",
    "theta_1 = 0\n",
    "c = np.array([theta_0,theta_1])\n",
    "c = c.reshape(2,1)\n",
    "\n",
    "print(c.shape)"
   ]
  },
  {
   "cell_type": "code",
   "execution_count": 14,
   "metadata": {},
   "outputs": [],
   "source": [
    "import sklearn.linear_model as lm\n",
    "from sklearn.preprocessing import PolynomialFeatures\n",
    "\n"
   ]
  },
  {
   "cell_type": "code",
   "execution_count": 15,
   "metadata": {},
   "outputs": [],
   "source": [
    "a = lm.LinearRegression()"
   ]
  },
  {
   "cell_type": "code",
   "execution_count": 16,
   "metadata": {},
   "outputs": [],
   "source": [
    "features = df.drop('y', axis = 1)"
   ]
  },
  {
   "cell_type": "code",
   "execution_count": 17,
   "metadata": {},
   "outputs": [],
   "source": [
    "target = df.y"
   ]
  },
  {
   "cell_type": "code",
   "execution_count": 19,
   "metadata": {},
   "outputs": [
    {
     "ename": "AttributeError",
     "evalue": "module 'sklearn.linear_model' has no attribute 'fit'",
     "output_type": "error",
     "traceback": [
      "\u001b[1;31m---------------------------------------------------------------------------\u001b[0m",
      "\u001b[1;31mAttributeError\u001b[0m                            Traceback (most recent call last)",
      "\u001b[1;32m<ipython-input-19-668b02479568>\u001b[0m in \u001b[0;36m<module>\u001b[1;34m\u001b[0m\n\u001b[1;32m----> 1\u001b[1;33m \u001b[0ma\u001b[0m \u001b[1;33m=\u001b[0m \u001b[0mlm\u001b[0m\u001b[1;33m.\u001b[0m\u001b[0mfit\u001b[0m\u001b[1;33m(\u001b[0m\u001b[0mfeatures\u001b[0m\u001b[1;33m,\u001b[0m\u001b[0mtarget\u001b[0m\u001b[1;33m)\u001b[0m\u001b[1;33m\u001b[0m\u001b[1;33m\u001b[0m\u001b[0m\n\u001b[0m",
      "\u001b[1;31mAttributeError\u001b[0m: module 'sklearn.linear_model' has no attribute 'fit'"
     ]
    }
   ],
   "source": [
    "a = lm.fit(features,target)"
   ]
  },
  {
   "cell_type": "code",
   "execution_count": 20,
   "metadata": {},
   "outputs": [
    {
     "ename": "AttributeError",
     "evalue": "module 'sklearn.linear_model' has no attribute 'intercept_'",
     "output_type": "error",
     "traceback": [
      "\u001b[1;31m---------------------------------------------------------------------------\u001b[0m",
      "\u001b[1;31mAttributeError\u001b[0m                            Traceback (most recent call last)",
      "\u001b[1;32m<ipython-input-20-2dad16b68125>\u001b[0m in \u001b[0;36m<module>\u001b[1;34m\u001b[0m\n\u001b[1;32m----> 1\u001b[1;33m \u001b[0mprint\u001b[0m\u001b[1;33m(\u001b[0m\u001b[0mlm\u001b[0m\u001b[1;33m.\u001b[0m\u001b[0mintercept_\u001b[0m\u001b[1;33m)\u001b[0m\u001b[1;33m\u001b[0m\u001b[1;33m\u001b[0m\u001b[0m\n\u001b[0m",
      "\u001b[1;31mAttributeError\u001b[0m: module 'sklearn.linear_model' has no attribute 'intercept_'"
     ]
    }
   ],
   "source": [
    "print(lm.intercept_)"
   ]
  },
  {
   "cell_type": "code",
   "execution_count": null,
   "metadata": {},
   "outputs": [],
   "source": [
    "print(lm.coef_)"
   ]
  },
  {
   "cell_type": "code",
   "execution_count": null,
   "metadata": {},
   "outputs": [],
   "source": [
    "print(lm.predict([[2]]))"
   ]
  },
  {
   "cell_type": "code",
   "execution_count": null,
   "metadata": {},
   "outputs": [],
   "source": [
    "a = np.array([2])"
   ]
  },
  {
   "cell_type": "code",
   "execution_count": null,
   "metadata": {},
   "outputs": [],
   "source": [
    "a =  a.reshape(1,-1)"
   ]
  },
  {
   "cell_type": "code",
   "execution_count": null,
   "metadata": {},
   "outputs": [],
   "source": [
    "lm.predict(a)"
   ]
  },
  {
   "cell_type": "code",
   "execution_count": null,
   "metadata": {},
   "outputs": [],
   "source": [
    "a"
   ]
  },
  {
   "cell_type": "code",
   "execution_count": null,
   "metadata": {},
   "outputs": [],
   "source": [
    "df_copy = df.copy()"
   ]
  },
  {
   "cell_type": "code",
   "execution_count": null,
   "metadata": {},
   "outputs": [],
   "source": [
    "clear"
   ]
  },
  {
   "cell_type": "code",
   "execution_count": 21,
   "metadata": {},
   "outputs": [],
   "source": [
    "df1 = pd.read_csv('simulated_data.csv')\n"
   ]
  },
  {
   "cell_type": "code",
   "execution_count": 46,
   "metadata": {},
   "outputs": [],
   "source": [
    "def fit_and_plot_model(df, model):\n",
    "    #splitting input features and target variable\n",
    "    features = df.drop('y',axis = 1)\n",
    "    target = df.y\n",
    "    #fitting the model\n",
    "    model.fit(features, target)\n",
    "    #plotting the graphs\n",
    "    plt.scatter(df.x , df.y)#scatter plot for the training points\n",
    "    plt.plot(df.x,model.predict(features),'m--')#predicted linear model\n",
    "    plt.plot(df.x,np.sin(df.x),color = 'y')\n",
    "\n",
    "\n",
    "    plt.show()\n",
    "    #returning the model\n",
    "    return model"
   ]
  },
  {
   "cell_type": "code",
   "execution_count": 48,
   "metadata": {
    "scrolled": false
   },
   "outputs": [],
   "source": [
    "df1 = df1.drop('x3',axis=1)"
   ]
  },
  {
   "cell_type": "code",
   "execution_count": 41,
   "metadata": {},
   "outputs": [],
   "source": [
    "target1 = df.y"
   ]
  },
  {
   "cell_type": "code",
   "execution_count": 49,
   "metadata": {},
   "outputs": [
    {
     "data": {
      "image/png": "[encoded data removed]",
      "text/plain": [
       "<Figure size 432x288 with 1 Axes>"
      ]
     },
     "metadata": {},
     "output_type": "display_data"
    },
    {
     "data": {
      "text/plain": [
       "LinearRegression(copy_X=True, fit_intercept=True, n_jobs=None,\n",
       "         normalize=False)"
      ]
     },
     "execution_count": 49,
     "metadata": {},
     "output_type": "execute_result"
    }
   ],
   "source": [
    "fit_and_plot_model(df1,a)\n"
   ]
  },
  {
   "cell_type": "code",
   "execution_count": 32,
   "metadata": {},
   "outputs": [],
   "source": [
    "df1['xpi'] = np.power(df1.x , np.pi)\n"
   ]
  },
  {
   "cell_type": "code",
   "execution_count": 25,
   "metadata": {},
   "outputs": [],
   "source": [
    "poly_reg = PolynomialFeatures(degree = 3)"
   ]
  },
  {
   "cell_type": "code",
   "execution_count": 33,
   "metadata": {},
   "outputs": [
    {
     "data": {
      "text/plain": [
       "LinearRegression(copy_X=True, fit_intercept=True, n_jobs=None,\n",
       "         normalize=False)"
      ]
     },
     "execution_count": 33,
     "metadata": {},
     "output_type": "execute_result"
    }
   ],
   "source": [
    "\n",
    "target1 = df1.y\n",
    "a.fit(features1, target1)"
   ]
  },
  {
   "cell_type": "code",
   "execution_count": 34,
   "metadata": {
    "scrolled": true
   },
   "outputs": [
    {
     "data": {
      "text/html": [
       "<div>\n",
       "<style scoped>\n",
       "    .dataframe tbody tr th:only-of-type {\n",
       "        vertical-align: middle;\n",
       "    }\n",
       "\n",
       "    .dataframe tbody tr th {\n",
       "        vertical-align: top;\n",
       "    }\n",
       "\n",
       "    .dataframe thead th {\n",
       "        text-align: right;\n",
       "    }\n",
       "</style>\n",
       "<table border=\"1\" class=\"dataframe\">\n",
       "  <thead>\n",
       "    <tr style=\"text-align: right;\">\n",
       "      <th></th>\n",
       "      <th>x</th>\n",
       "      <th>x2</th>\n",
       "      <th>x3</th>\n",
       "      <th>xpi</th>\n",
       "    </tr>\n",
       "  </thead>\n",
       "  <tbody>\n",
       "    <tr>\n",
       "      <th>0</th>\n",
       "      <td>0.000000</td>\n",
       "      <td>0.000000</td>\n",
       "      <td>0.000000</td>\n",
       "      <td>0.000000</td>\n",
       "    </tr>\n",
       "    <tr>\n",
       "      <th>1</th>\n",
       "      <td>0.063467</td>\n",
       "      <td>0.004028</td>\n",
       "      <td>0.000256</td>\n",
       "      <td>0.000173</td>\n",
       "    </tr>\n",
       "    <tr>\n",
       "      <th>2</th>\n",
       "      <td>0.126933</td>\n",
       "      <td>0.016112</td>\n",
       "      <td>0.002045</td>\n",
       "      <td>0.001527</td>\n",
       "    </tr>\n",
       "    <tr>\n",
       "      <th>3</th>\n",
       "      <td>0.190400</td>\n",
       "      <td>0.036252</td>\n",
       "      <td>0.006902</td>\n",
       "      <td>0.005458</td>\n",
       "    </tr>\n",
       "    <tr>\n",
       "      <th>4</th>\n",
       "      <td>0.253866</td>\n",
       "      <td>0.064448</td>\n",
       "      <td>0.016361</td>\n",
       "      <td>0.013474</td>\n",
       "    </tr>\n",
       "    <tr>\n",
       "      <th>5</th>\n",
       "      <td>0.317333</td>\n",
       "      <td>0.100700</td>\n",
       "      <td>0.031955</td>\n",
       "      <td>0.027162</td>\n",
       "    </tr>\n",
       "    <tr>\n",
       "      <th>6</th>\n",
       "      <td>0.380799</td>\n",
       "      <td>0.145008</td>\n",
       "      <td>0.055219</td>\n",
       "      <td>0.048163</td>\n",
       "    </tr>\n",
       "    <tr>\n",
       "      <th>7</th>\n",
       "      <td>0.444266</td>\n",
       "      <td>0.197372</td>\n",
       "      <td>0.087686</td>\n",
       "      <td>0.078169</td>\n",
       "    </tr>\n",
       "    <tr>\n",
       "      <th>8</th>\n",
       "      <td>0.507732</td>\n",
       "      <td>0.257792</td>\n",
       "      <td>0.130889</td>\n",
       "      <td>0.118912</td>\n",
       "    </tr>\n",
       "    <tr>\n",
       "      <th>9</th>\n",
       "      <td>0.571199</td>\n",
       "      <td>0.326268</td>\n",
       "      <td>0.186364</td>\n",
       "      <td>0.172157</td>\n",
       "    </tr>\n",
       "    <tr>\n",
       "      <th>10</th>\n",
       "      <td>0.634665</td>\n",
       "      <td>0.402800</td>\n",
       "      <td>0.255643</td>\n",
       "      <td>0.239704</td>\n",
       "    </tr>\n",
       "    <tr>\n",
       "      <th>11</th>\n",
       "      <td>0.698132</td>\n",
       "      <td>0.487388</td>\n",
       "      <td>0.340261</td>\n",
       "      <td>0.323381</td>\n",
       "    </tr>\n",
       "    <tr>\n",
       "      <th>12</th>\n",
       "      <td>0.761598</td>\n",
       "      <td>0.580032</td>\n",
       "      <td>0.441751</td>\n",
       "      <td>0.425041</td>\n",
       "    </tr>\n",
       "    <tr>\n",
       "      <th>13</th>\n",
       "      <td>0.825065</td>\n",
       "      <td>0.680732</td>\n",
       "      <td>0.561648</td>\n",
       "      <td>0.546562</td>\n",
       "    </tr>\n",
       "    <tr>\n",
       "      <th>14</th>\n",
       "      <td>0.888531</td>\n",
       "      <td>0.789488</td>\n",
       "      <td>0.701485</td>\n",
       "      <td>0.689843</td>\n",
       "    </tr>\n",
       "    <tr>\n",
       "      <th>15</th>\n",
       "      <td>0.951998</td>\n",
       "      <td>0.906300</td>\n",
       "      <td>0.862795</td>\n",
       "      <td>0.856807</td>\n",
       "    </tr>\n",
       "    <tr>\n",
       "      <th>16</th>\n",
       "      <td>1.015464</td>\n",
       "      <td>1.031168</td>\n",
       "      <td>1.047114</td>\n",
       "      <td>1.049392</td>\n",
       "    </tr>\n",
       "    <tr>\n",
       "      <th>17</th>\n",
       "      <td>1.078931</td>\n",
       "      <td>1.164092</td>\n",
       "      <td>1.255974</td>\n",
       "      <td>1.269558</td>\n",
       "    </tr>\n",
       "    <tr>\n",
       "      <th>18</th>\n",
       "      <td>1.142397</td>\n",
       "      <td>1.305072</td>\n",
       "      <td>1.490910</td>\n",
       "      <td>1.519281</td>\n",
       "    </tr>\n",
       "    <tr>\n",
       "      <th>19</th>\n",
       "      <td>1.205864</td>\n",
       "      <td>1.454108</td>\n",
       "      <td>1.753456</td>\n",
       "      <td>1.800554</td>\n",
       "    </tr>\n",
       "    <tr>\n",
       "      <th>20</th>\n",
       "      <td>1.269330</td>\n",
       "      <td>1.611200</td>\n",
       "      <td>2.045145</td>\n",
       "      <td>2.115385</td>\n",
       "    </tr>\n",
       "    <tr>\n",
       "      <th>21</th>\n",
       "      <td>1.332797</td>\n",
       "      <td>1.776348</td>\n",
       "      <td>2.367510</td>\n",
       "      <td>2.465798</td>\n",
       "    </tr>\n",
       "    <tr>\n",
       "      <th>22</th>\n",
       "      <td>1.396263</td>\n",
       "      <td>1.949551</td>\n",
       "      <td>2.722087</td>\n",
       "      <td>2.853832</td>\n",
       "    </tr>\n",
       "    <tr>\n",
       "      <th>23</th>\n",
       "      <td>1.459730</td>\n",
       "      <td>2.130811</td>\n",
       "      <td>3.110409</td>\n",
       "      <td>3.281537</td>\n",
       "    </tr>\n",
       "    <tr>\n",
       "      <th>24</th>\n",
       "      <td>1.523196</td>\n",
       "      <td>2.320127</td>\n",
       "      <td>3.534010</td>\n",
       "      <td>3.750979</td>\n",
       "    </tr>\n",
       "    <tr>\n",
       "      <th>25</th>\n",
       "      <td>1.586663</td>\n",
       "      <td>2.517499</td>\n",
       "      <td>3.994423</td>\n",
       "      <td>4.264236</td>\n",
       "    </tr>\n",
       "    <tr>\n",
       "      <th>26</th>\n",
       "      <td>1.650129</td>\n",
       "      <td>2.722927</td>\n",
       "      <td>4.493183</td>\n",
       "      <td>4.823397</td>\n",
       "    </tr>\n",
       "    <tr>\n",
       "      <th>27</th>\n",
       "      <td>1.713596</td>\n",
       "      <td>2.936411</td>\n",
       "      <td>5.031823</td>\n",
       "      <td>5.430565</td>\n",
       "    </tr>\n",
       "    <tr>\n",
       "      <th>28</th>\n",
       "      <td>1.777063</td>\n",
       "      <td>3.157951</td>\n",
       "      <td>5.611877</td>\n",
       "      <td>6.087853</td>\n",
       "    </tr>\n",
       "    <tr>\n",
       "      <th>29</th>\n",
       "      <td>1.840529</td>\n",
       "      <td>3.387547</td>\n",
       "      <td>6.234879</td>\n",
       "      <td>6.797386</td>\n",
       "    </tr>\n",
       "    <tr>\n",
       "      <th>...</th>\n",
       "      <td>...</td>\n",
       "      <td>...</td>\n",
       "      <td>...</td>\n",
       "      <td>...</td>\n",
       "    </tr>\n",
       "    <tr>\n",
       "      <th>70</th>\n",
       "      <td>4.442656</td>\n",
       "      <td>19.737195</td>\n",
       "      <td>87.685572</td>\n",
       "      <td>108.300283</td>\n",
       "    </tr>\n",
       "    <tr>\n",
       "      <th>71</th>\n",
       "      <td>4.506123</td>\n",
       "      <td>20.305143</td>\n",
       "      <td>91.497466</td>\n",
       "      <td>113.235544</td>\n",
       "    </tr>\n",
       "    <tr>\n",
       "      <th>72</th>\n",
       "      <td>4.569589</td>\n",
       "      <td>20.881147</td>\n",
       "      <td>95.418264</td>\n",
       "      <td>118.321937</td>\n",
       "    </tr>\n",
       "    <tr>\n",
       "      <th>73</th>\n",
       "      <td>4.633056</td>\n",
       "      <td>21.465206</td>\n",
       "      <td>99.449499</td>\n",
       "      <td>123.561893</td>\n",
       "    </tr>\n",
       "    <tr>\n",
       "      <th>74</th>\n",
       "      <td>4.696522</td>\n",
       "      <td>22.057322</td>\n",
       "      <td>103.592707</td>\n",
       "      <td>128.957850</td>\n",
       "    </tr>\n",
       "    <tr>\n",
       "      <th>75</th>\n",
       "      <td>4.759989</td>\n",
       "      <td>22.657494</td>\n",
       "      <td>107.849419</td>\n",
       "      <td>134.512249</td>\n",
       "    </tr>\n",
       "    <tr>\n",
       "      <th>76</th>\n",
       "      <td>4.823455</td>\n",
       "      <td>23.265722</td>\n",
       "      <td>112.221172</td>\n",
       "      <td>140.227538</td>\n",
       "    </tr>\n",
       "    <tr>\n",
       "      <th>77</th>\n",
       "      <td>4.886922</td>\n",
       "      <td>23.882006</td>\n",
       "      <td>116.709497</td>\n",
       "      <td>146.106167</td>\n",
       "    </tr>\n",
       "    <tr>\n",
       "      <th>78</th>\n",
       "      <td>4.950388</td>\n",
       "      <td>24.506346</td>\n",
       "      <td>121.315929</td>\n",
       "      <td>152.150592</td>\n",
       "    </tr>\n",
       "    <tr>\n",
       "      <th>79</th>\n",
       "      <td>5.013855</td>\n",
       "      <td>25.138741</td>\n",
       "      <td>126.042003</td>\n",
       "      <td>158.363275</td>\n",
       "    </tr>\n",
       "    <tr>\n",
       "      <th>80</th>\n",
       "      <td>5.077321</td>\n",
       "      <td>25.779193</td>\n",
       "      <td>130.889251</td>\n",
       "      <td>164.746678</td>\n",
       "    </tr>\n",
       "    <tr>\n",
       "      <th>81</th>\n",
       "      <td>5.140788</td>\n",
       "      <td>26.427701</td>\n",
       "      <td>135.859208</td>\n",
       "      <td>171.303272</td>\n",
       "    </tr>\n",
       "    <tr>\n",
       "      <th>82</th>\n",
       "      <td>5.204254</td>\n",
       "      <td>27.084265</td>\n",
       "      <td>140.953407</td>\n",
       "      <td>178.035531</td>\n",
       "    </tr>\n",
       "    <tr>\n",
       "      <th>83</th>\n",
       "      <td>5.267721</td>\n",
       "      <td>27.748885</td>\n",
       "      <td>146.173383</td>\n",
       "      <td>184.945931</td>\n",
       "    </tr>\n",
       "    <tr>\n",
       "      <th>84</th>\n",
       "      <td>5.331188</td>\n",
       "      <td>28.421561</td>\n",
       "      <td>151.520669</td>\n",
       "      <td>192.036956</td>\n",
       "    </tr>\n",
       "    <tr>\n",
       "      <th>85</th>\n",
       "      <td>5.394654</td>\n",
       "      <td>29.102292</td>\n",
       "      <td>156.996799</td>\n",
       "      <td>199.311091</td>\n",
       "    </tr>\n",
       "    <tr>\n",
       "      <th>86</th>\n",
       "      <td>5.458121</td>\n",
       "      <td>29.791080</td>\n",
       "      <td>162.603307</td>\n",
       "      <td>206.770828</td>\n",
       "    </tr>\n",
       "    <tr>\n",
       "      <th>87</th>\n",
       "      <td>5.521587</td>\n",
       "      <td>30.487924</td>\n",
       "      <td>168.341727</td>\n",
       "      <td>214.418661</td>\n",
       "    </tr>\n",
       "    <tr>\n",
       "      <th>88</th>\n",
       "      <td>5.585054</td>\n",
       "      <td>31.192824</td>\n",
       "      <td>174.213593</td>\n",
       "      <td>222.257089</td>\n",
       "    </tr>\n",
       "    <tr>\n",
       "      <th>89</th>\n",
       "      <td>5.648520</td>\n",
       "      <td>31.905780</td>\n",
       "      <td>180.220438</td>\n",
       "      <td>230.288615</td>\n",
       "    </tr>\n",
       "    <tr>\n",
       "      <th>90</th>\n",
       "      <td>5.711987</td>\n",
       "      <td>32.626791</td>\n",
       "      <td>186.363797</td>\n",
       "      <td>238.515746</td>\n",
       "    </tr>\n",
       "    <tr>\n",
       "      <th>91</th>\n",
       "      <td>5.775453</td>\n",
       "      <td>33.355859</td>\n",
       "      <td>192.645203</td>\n",
       "      <td>246.940993</td>\n",
       "    </tr>\n",
       "    <tr>\n",
       "      <th>92</th>\n",
       "      <td>5.838920</td>\n",
       "      <td>34.092983</td>\n",
       "      <td>199.066189</td>\n",
       "      <td>255.566871</td>\n",
       "    </tr>\n",
       "    <tr>\n",
       "      <th>93</th>\n",
       "      <td>5.902386</td>\n",
       "      <td>34.838163</td>\n",
       "      <td>205.628291</td>\n",
       "      <td>264.395899</td>\n",
       "    </tr>\n",
       "    <tr>\n",
       "      <th>94</th>\n",
       "      <td>5.965853</td>\n",
       "      <td>35.591399</td>\n",
       "      <td>212.333042</td>\n",
       "      <td>273.430599</td>\n",
       "    </tr>\n",
       "    <tr>\n",
       "      <th>95</th>\n",
       "      <td>6.029319</td>\n",
       "      <td>36.352690</td>\n",
       "      <td>219.181976</td>\n",
       "      <td>282.673498</td>\n",
       "    </tr>\n",
       "    <tr>\n",
       "      <th>96</th>\n",
       "      <td>6.092786</td>\n",
       "      <td>37.122038</td>\n",
       "      <td>226.176626</td>\n",
       "      <td>292.127127</td>\n",
       "    </tr>\n",
       "    <tr>\n",
       "      <th>97</th>\n",
       "      <td>6.156252</td>\n",
       "      <td>37.899442</td>\n",
       "      <td>233.318526</td>\n",
       "      <td>301.794019</td>\n",
       "    </tr>\n",
       "    <tr>\n",
       "      <th>98</th>\n",
       "      <td>6.219719</td>\n",
       "      <td>38.684902</td>\n",
       "      <td>240.609211</td>\n",
       "      <td>311.676713</td>\n",
       "    </tr>\n",
       "    <tr>\n",
       "      <th>99</th>\n",
       "      <td>6.283185</td>\n",
       "      <td>39.478418</td>\n",
       "      <td>248.050213</td>\n",
       "      <td>321.777750</td>\n",
       "    </tr>\n",
       "  </tbody>\n",
       "</table>\n",
       "<p>100 rows × 4 columns</p>\n",
       "</div>"
      ],
      "text/plain": [
       "           x         x2          x3         xpi\n",
       "0   0.000000   0.000000    0.000000    0.000000\n",
       "1   0.063467   0.004028    0.000256    0.000173\n",
       "2   0.126933   0.016112    0.002045    0.001527\n",
       "3   0.190400   0.036252    0.006902    0.005458\n",
       "4   0.253866   0.064448    0.016361    0.013474\n",
       "5   0.317333   0.100700    0.031955    0.027162\n",
       "6   0.380799   0.145008    0.055219    0.048163\n",
       "7   0.444266   0.197372    0.087686    0.078169\n",
       "8   0.507732   0.257792    0.130889    0.118912\n",
       "9   0.571199   0.326268    0.186364    0.172157\n",
       "10  0.634665   0.402800    0.255643    0.239704\n",
       "11  0.698132   0.487388    0.340261    0.323381\n",
       "12  0.761598   0.580032    0.441751    0.425041\n",
       "13  0.825065   0.680732    0.561648    0.546562\n",
       "14  0.888531   0.789488    0.701485    0.689843\n",
       "15  0.951998   0.906300    0.862795    0.856807\n",
       "16  1.015464   1.031168    1.047114    1.049392\n",
       "17  1.078931   1.164092    1.255974    1.269558\n",
       "18  1.142397   1.305072    1.490910    1.519281\n",
       "19  1.205864   1.454108    1.753456    1.800554\n",
       "20  1.269330   1.611200    2.045145    2.115385\n",
       "21  1.332797   1.776348    2.367510    2.465798\n",
       "22  1.396263   1.949551    2.722087    2.853832\n",
       "23  1.459730   2.130811    3.110409    3.281537\n",
       "24  1.523196   2.320127    3.534010    3.750979\n",
       "25  1.586663   2.517499    3.994423    4.264236\n",
       "26  1.650129   2.722927    4.493183    4.823397\n",
       "27  1.713596   2.936411    5.031823    5.430565\n",
       "28  1.777063   3.157951    5.611877    6.087853\n",
       "29  1.840529   3.387547    6.234879    6.797386\n",
       "..       ...        ...         ...         ...\n",
       "70  4.442656  19.737195   87.685572  108.300283\n",
       "71  4.506123  20.305143   91.497466  113.235544\n",
       "72  4.569589  20.881147   95.418264  118.321937\n",
       "73  4.633056  21.465206   99.449499  123.561893\n",
       "74  4.696522  22.057322  103.592707  128.957850\n",
       "75  4.759989  22.657494  107.849419  134.512249\n",
       "76  4.823455  23.265722  112.221172  140.227538\n",
       "77  4.886922  23.882006  116.709497  146.106167\n",
       "78  4.950388  24.506346  121.315929  152.150592\n",
       "79  5.013855  25.138741  126.042003  158.363275\n",
       "80  5.077321  25.779193  130.889251  164.746678\n",
       "81  5.140788  26.427701  135.859208  171.303272\n",
       "82  5.204254  27.084265  140.953407  178.035531\n",
       "83  5.267721  27.748885  146.173383  184.945931\n",
       "84  5.331188  28.421561  151.520669  192.036956\n",
       "85  5.394654  29.102292  156.996799  199.311091\n",
       "86  5.458121  29.791080  162.603307  206.770828\n",
       "87  5.521587  30.487924  168.341727  214.418661\n",
       "88  5.585054  31.192824  174.213593  222.257089\n",
       "89  5.648520  31.905780  180.220438  230.288615\n",
       "90  5.711987  32.626791  186.363797  238.515746\n",
       "91  5.775453  33.355859  192.645203  246.940993\n",
       "92  5.838920  34.092983  199.066189  255.566871\n",
       "93  5.902386  34.838163  205.628291  264.395899\n",
       "94  5.965853  35.591399  212.333042  273.430599\n",
       "95  6.029319  36.352690  219.181976  282.673498\n",
       "96  6.092786  37.122038  226.176626  292.127127\n",
       "97  6.156252  37.899442  233.318526  301.794019\n",
       "98  6.219719  38.684902  240.609211  311.676713\n",
       "99  6.283185  39.478418  248.050213  321.777750\n",
       "\n",
       "[100 rows x 4 columns]"
      ]
     },
     "execution_count": 34,
     "metadata": {},
     "output_type": "execute_result"
    }
   ],
   "source": [
    "features1 = df1.drop('y', axis=1)\n",
    "features1"
   ]
  },
  {
   "cell_type": "code",
   "execution_count": 29,
   "metadata": {},
   "outputs": [],
   "source": [
    "df1['x3'] = np.power(df1.x, 3)"
   ]
  },
  {
   "cell_type": "code",
   "execution_count": 30,
   "metadata": {},
   "outputs": [
    {
     "name": "stdout",
     "output_type": "stream",
     "text": [
      "[-0.18752794 -0.01276576]\n"
     ]
    }
   ],
   "source": [
    "print(a.coef_)"
   ]
  },
  {
   "cell_type": "code",
   "execution_count": 36,
   "metadata": {
    "scrolled": true
   },
   "outputs": [
    {
     "ename": "ValueError",
     "evalue": "shapes (100,4) and (2,) not aligned: 4 (dim 1) != 2 (dim 0)",
     "output_type": "error",
     "traceback": [
      "\u001b[1;31m---------------------------------------------------------------------------\u001b[0m",
      "\u001b[1;31mValueError\u001b[0m                                Traceback (most recent call last)",
      "\u001b[1;32m<ipython-input-36-831883e1c1f7>\u001b[0m in \u001b[0;36m<module>\u001b[1;34m\u001b[0m\n\u001b[0;32m      1\u001b[0m \u001b[0mplt\u001b[0m\u001b[1;33m.\u001b[0m\u001b[0mscatter\u001b[0m\u001b[1;33m(\u001b[0m\u001b[0mdf1\u001b[0m\u001b[1;33m.\u001b[0m\u001b[0mx\u001b[0m \u001b[1;33m,\u001b[0m \u001b[0mdf1\u001b[0m\u001b[1;33m.\u001b[0m\u001b[0my\u001b[0m\u001b[1;33m)\u001b[0m\u001b[1;33m\u001b[0m\u001b[1;33m\u001b[0m\u001b[0m\n\u001b[1;32m----> 2\u001b[1;33m \u001b[0mplt\u001b[0m\u001b[1;33m.\u001b[0m\u001b[0mplot\u001b[0m\u001b[1;33m(\u001b[0m\u001b[0mdf1\u001b[0m\u001b[1;33m.\u001b[0m\u001b[0mx\u001b[0m \u001b[1;33m,\u001b[0m \u001b[0ma\u001b[0m\u001b[1;33m.\u001b[0m\u001b[0mpredict\u001b[0m\u001b[1;33m(\u001b[0m\u001b[0mfeatures1\u001b[0m\u001b[1;33m)\u001b[0m\u001b[1;33m,\u001b[0m \u001b[1;34m'm--'\u001b[0m\u001b[1;33m)\u001b[0m\u001b[1;33m\u001b[0m\u001b[1;33m\u001b[0m\u001b[0m\n\u001b[0m\u001b[0;32m      3\u001b[0m \u001b[0mplt\u001b[0m\u001b[1;33m.\u001b[0m\u001b[0mshow\u001b[0m\u001b[1;33m(\u001b[0m\u001b[1;33m)\u001b[0m\u001b[1;33m\u001b[0m\u001b[1;33m\u001b[0m\u001b[0m\n",
      "\u001b[1;32mC:\\ProgramData\\Anaconda3\\lib\\site-packages\\sklearn\\linear_model\\base.py\u001b[0m in \u001b[0;36mpredict\u001b[1;34m(self, X)\u001b[0m\n\u001b[0;32m    211\u001b[0m             \u001b[0mReturns\u001b[0m \u001b[0mpredicted\u001b[0m \u001b[0mvalues\u001b[0m\u001b[1;33m.\u001b[0m\u001b[1;33m\u001b[0m\u001b[1;33m\u001b[0m\u001b[0m\n\u001b[0;32m    212\u001b[0m         \"\"\"\n\u001b[1;32m--> 213\u001b[1;33m         \u001b[1;32mreturn\u001b[0m \u001b[0mself\u001b[0m\u001b[1;33m.\u001b[0m\u001b[0m_decision_function\u001b[0m\u001b[1;33m(\u001b[0m\u001b[0mX\u001b[0m\u001b[1;33m)\u001b[0m\u001b[1;33m\u001b[0m\u001b[1;33m\u001b[0m\u001b[0m\n\u001b[0m\u001b[0;32m    214\u001b[0m \u001b[1;33m\u001b[0m\u001b[0m\n\u001b[0;32m    215\u001b[0m     \u001b[0m_preprocess_data\u001b[0m \u001b[1;33m=\u001b[0m \u001b[0mstaticmethod\u001b[0m\u001b[1;33m(\u001b[0m\u001b[0m_preprocess_data\u001b[0m\u001b[1;33m)\u001b[0m\u001b[1;33m\u001b[0m\u001b[1;33m\u001b[0m\u001b[0m\n",
      "\u001b[1;32mC:\\ProgramData\\Anaconda3\\lib\\site-packages\\sklearn\\linear_model\\base.py\u001b[0m in \u001b[0;36m_decision_function\u001b[1;34m(self, X)\u001b[0m\n\u001b[0;32m    196\u001b[0m         \u001b[0mX\u001b[0m \u001b[1;33m=\u001b[0m \u001b[0mcheck_array\u001b[0m\u001b[1;33m(\u001b[0m\u001b[0mX\u001b[0m\u001b[1;33m,\u001b[0m \u001b[0maccept_sparse\u001b[0m\u001b[1;33m=\u001b[0m\u001b[1;33m[\u001b[0m\u001b[1;34m'csr'\u001b[0m\u001b[1;33m,\u001b[0m \u001b[1;34m'csc'\u001b[0m\u001b[1;33m,\u001b[0m \u001b[1;34m'coo'\u001b[0m\u001b[1;33m]\u001b[0m\u001b[1;33m)\u001b[0m\u001b[1;33m\u001b[0m\u001b[1;33m\u001b[0m\u001b[0m\n\u001b[0;32m    197\u001b[0m         return safe_sparse_dot(X, self.coef_.T,\n\u001b[1;32m--> 198\u001b[1;33m                                dense_output=True) + self.intercept_\n\u001b[0m\u001b[0;32m    199\u001b[0m \u001b[1;33m\u001b[0m\u001b[0m\n\u001b[0;32m    200\u001b[0m     \u001b[1;32mdef\u001b[0m \u001b[0mpredict\u001b[0m\u001b[1;33m(\u001b[0m\u001b[0mself\u001b[0m\u001b[1;33m,\u001b[0m \u001b[0mX\u001b[0m\u001b[1;33m)\u001b[0m\u001b[1;33m:\u001b[0m\u001b[1;33m\u001b[0m\u001b[1;33m\u001b[0m\u001b[0m\n",
      "\u001b[1;32mC:\\ProgramData\\Anaconda3\\lib\\site-packages\\sklearn\\utils\\extmath.py\u001b[0m in \u001b[0;36msafe_sparse_dot\u001b[1;34m(a, b, dense_output)\u001b[0m\n\u001b[0;32m    171\u001b[0m         \u001b[1;32mreturn\u001b[0m \u001b[0mret\u001b[0m\u001b[1;33m\u001b[0m\u001b[1;33m\u001b[0m\u001b[0m\n\u001b[0;32m    172\u001b[0m     \u001b[1;32melse\u001b[0m\u001b[1;33m:\u001b[0m\u001b[1;33m\u001b[0m\u001b[1;33m\u001b[0m\u001b[0m\n\u001b[1;32m--> 173\u001b[1;33m         \u001b[1;32mreturn\u001b[0m \u001b[0mnp\u001b[0m\u001b[1;33m.\u001b[0m\u001b[0mdot\u001b[0m\u001b[1;33m(\u001b[0m\u001b[0ma\u001b[0m\u001b[1;33m,\u001b[0m \u001b[0mb\u001b[0m\u001b[1;33m)\u001b[0m\u001b[1;33m\u001b[0m\u001b[1;33m\u001b[0m\u001b[0m\n\u001b[0m\u001b[0;32m    174\u001b[0m \u001b[1;33m\u001b[0m\u001b[0m\n\u001b[0;32m    175\u001b[0m \u001b[1;33m\u001b[0m\u001b[0m\n",
      "\u001b[1;31mValueError\u001b[0m: shapes (100,4) and (2,) not aligned: 4 (dim 1) != 2 (dim 0)"
     ]
    },
    {
     "data": {
      "image/png": "[encoded data removed]",
      "text/plain": [
       "<Figure size 432x288 with 1 Axes>"
      ]
     },
     "metadata": {},
     "output_type": "display_data"
    }
   ],
   "source": [
    "plt.scatter(df1.x , df1.y)\n",
    "plt.plot(df1.x , a.predict(features1), 'm--')\n",
    "plt.show()"
   ]
  },
  {
   "cell_type": "code",
   "execution_count": null,
   "metadata": {},
   "outputs": [],
   "source": [
    "b = a.coef_\n"
   ]
  },
  {
   "cell_type": "code",
   "execution_count": null,
   "metadata": {},
   "outputs": [],
   "source": [
    "b.shape"
   ]
  },
  {
   "cell_type": "code",
   "execution_count": null,
   "metadata": {},
   "outputs": [],
   "source": [
    "b.reshape(3,1)"
   ]
  },
  {
   "cell_type": "code",
   "execution_count": null,
   "metadata": {},
   "outputs": [],
   "source": [
    "b"
   ]
  },
  {
   "cell_type": "code",
   "execution_count": null,
   "metadata": {},
   "outputs": [],
   "source": [
    "d = np.array(features)"
   ]
  },
  {
   "cell_type": "code",
   "execution_count": null,
   "metadata": {},
   "outputs": [],
   "source": [
    "features1.shape"
   ]
  },
  {
   "cell_type": "code",
   "execution_count": null,
   "metadata": {},
   "outputs": [],
   "source": [
    "d = d.reshape(100,1)"
   ]
  },
  {
   "cell_type": "code",
   "execution_count": null,
   "metadata": {},
   "outputs": [],
   "source": [
    "a.coef_ = a.coef_.reshape()"
   ]
  },
  {
   "cell_type": "code",
   "execution_count": null,
   "metadata": {},
   "outputs": [],
   "source": [
    "df"
   ]
  },
  {
   "cell_type": "code",
   "execution_count": null,
   "metadata": {},
   "outputs": [],
   "source": [
    "df1\n"
   ]
  },
  {
   "cell_type": "code",
   "execution_count": null,
   "metadata": {},
   "outputs": [],
   "source": []
  }
 ],
 "metadata": {
  "kernelspec": {
   "display_name": "Python 3",
   "language": "python",
   "name": "python3"
  },
  "language_info": {
   "codemirror_mode": {
    "name": "ipython",
    "version": 3
   },
   "file_extension": ".py",
   "mimetype": "text/x-python",
   "name": "python",
   "nbconvert_exporter": "python",
   "pygments_lexer": "ipython3",
   "version": "3.7.3"
  }
 },
 "nbformat": 4,
 "nbformat_minor": 2
}
